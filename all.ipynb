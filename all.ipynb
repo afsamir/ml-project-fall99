{
 "cells": [
  {
   "cell_type": "markdown",
   "metadata": {},
   "source": [
    "eda:\n",
    "در این مرحله با نگاهی کلی به دیتاست، وضعیت ویژگی‌ها و اهمیت و تاثیر آنها در یادگیری را بررسی می‌کنیم.\n"
   ]
  },
  {
   "cell_type": "code",
   "execution_count": 1,
   "metadata": {},
   "outputs": [],
   "source": [
    "import seaborn as sns\n",
    "import pandas as ps\n",
    "import numpy as np\n",
    "\n",
    "\n",
    "data = ps.read_csv(\"train_data.csv\")"
   ]
  },
  {
   "cell_type": "code",
   "execution_count": 2,
   "metadata": {},
   "outputs": [
    {
     "data": {
      "text/html": [
       "<div>\n",
       "<style scoped>\n",
       "    .dataframe tbody tr th:only-of-type {\n",
       "        vertical-align: middle;\n",
       "    }\n",
       "\n",
       "    .dataframe tbody tr th {\n",
       "        vertical-align: top;\n",
       "    }\n",
       "\n",
       "    .dataframe thead th {\n",
       "        text-align: right;\n",
       "    }\n",
       "</style>\n",
       "<table border=\"1\" class=\"dataframe\">\n",
       "  <thead>\n",
       "    <tr style=\"text-align: right;\">\n",
       "      <th></th>\n",
       "      <th>displayId</th>\n",
       "      <th>timestamp</th>\n",
       "      <th>dayOfWeek</th>\n",
       "      <th>hourOfDay</th>\n",
       "      <th>advertiserId</th>\n",
       "      <th>campaignId</th>\n",
       "      <th>creativeId</th>\n",
       "      <th>publisher</th>\n",
       "      <th>widgetId</th>\n",
       "      <th>device</th>\n",
       "      <th>os</th>\n",
       "      <th>browser</th>\n",
       "      <th>source</th>\n",
       "      <th>docId</th>\n",
       "      <th>userId</th>\n",
       "      <th>clicked</th>\n",
       "    </tr>\n",
       "  </thead>\n",
       "  <tbody>\n",
       "    <tr>\n",
       "      <th>count</th>\n",
       "      <td>3.768416e+06</td>\n",
       "      <td>3.768416e+06</td>\n",
       "      <td>3.768416e+06</td>\n",
       "      <td>3.768416e+06</td>\n",
       "      <td>3.768416e+06</td>\n",
       "      <td>3.768416e+06</td>\n",
       "      <td>3.768416e+06</td>\n",
       "      <td>3.768416e+06</td>\n",
       "      <td>3.768416e+06</td>\n",
       "      <td>3.768416e+06</td>\n",
       "      <td>3.768416e+06</td>\n",
       "      <td>3.768416e+06</td>\n",
       "      <td>3.768416e+06</td>\n",
       "      <td>3.768416e+06</td>\n",
       "      <td>3.768416e+06</td>\n",
       "      <td>3.768416e+06</td>\n",
       "    </tr>\n",
       "    <tr>\n",
       "      <th>mean</th>\n",
       "      <td>3.044210e+06</td>\n",
       "      <td>1.579005e+12</td>\n",
       "      <td>2.822654e+00</td>\n",
       "      <td>1.128271e+01</td>\n",
       "      <td>4.851426e+03</td>\n",
       "      <td>4.556158e+03</td>\n",
       "      <td>3.923456e+03</td>\n",
       "      <td>2.463082e+02</td>\n",
       "      <td>7.500866e+03</td>\n",
       "      <td>3.409207e-01</td>\n",
       "      <td>4.306032e-01</td>\n",
       "      <td>1.209916e+00</td>\n",
       "      <td>1.848337e+03</td>\n",
       "      <td>5.065981e+06</td>\n",
       "      <td>1.501631e+06</td>\n",
       "      <td>2.234841e-01</td>\n",
       "    </tr>\n",
       "    <tr>\n",
       "      <th>std</th>\n",
       "      <td>1.019521e+06</td>\n",
       "      <td>3.571385e+08</td>\n",
       "      <td>1.914881e+00</td>\n",
       "      <td>5.618726e+00</td>\n",
       "      <td>2.899004e+03</td>\n",
       "      <td>2.647040e+03</td>\n",
       "      <td>2.482294e+03</td>\n",
       "      <td>5.164171e+02</td>\n",
       "      <td>4.301190e+03</td>\n",
       "      <td>4.817837e-01</td>\n",
       "      <td>6.516009e-01</td>\n",
       "      <td>2.629931e+00</td>\n",
       "      <td>6.529483e+03</td>\n",
       "      <td>3.424284e+06</td>\n",
       "      <td>7.132266e+05</td>\n",
       "      <td>4.165801e-01</td>\n",
       "    </tr>\n",
       "    <tr>\n",
       "      <th>min</th>\n",
       "      <td>1.115095e+06</td>\n",
       "      <td>1.578429e+12</td>\n",
       "      <td>0.000000e+00</td>\n",
       "      <td>0.000000e+00</td>\n",
       "      <td>1.000000e+00</td>\n",
       "      <td>3.000000e+01</td>\n",
       "      <td>6.000000e+00</td>\n",
       "      <td>0.000000e+00</td>\n",
       "      <td>9.000000e+00</td>\n",
       "      <td>0.000000e+00</td>\n",
       "      <td>0.000000e+00</td>\n",
       "      <td>0.000000e+00</td>\n",
       "      <td>0.000000e+00</td>\n",
       "      <td>4.000000e+00</td>\n",
       "      <td>8.000000e+00</td>\n",
       "      <td>0.000000e+00</td>\n",
       "    </tr>\n",
       "    <tr>\n",
       "      <th>25%</th>\n",
       "      <td>2.175378e+06</td>\n",
       "      <td>1.578715e+12</td>\n",
       "      <td>1.000000e+00</td>\n",
       "      <td>7.000000e+00</td>\n",
       "      <td>2.167000e+03</td>\n",
       "      <td>2.329000e+03</td>\n",
       "      <td>1.012000e+03</td>\n",
       "      <td>1.100000e+01</td>\n",
       "      <td>3.637000e+03</td>\n",
       "      <td>0.000000e+00</td>\n",
       "      <td>0.000000e+00</td>\n",
       "      <td>0.000000e+00</td>\n",
       "      <td>1.200000e+01</td>\n",
       "      <td>5.285000e+05</td>\n",
       "      <td>9.327162e+05</td>\n",
       "      <td>0.000000e+00</td>\n",
       "    </tr>\n",
       "    <tr>\n",
       "      <th>50%</th>\n",
       "      <td>3.118769e+06</td>\n",
       "      <td>1.578971e+12</td>\n",
       "      <td>3.000000e+00</td>\n",
       "      <td>1.000000e+01</td>\n",
       "      <td>4.705000e+03</td>\n",
       "      <td>4.355000e+03</td>\n",
       "      <td>5.102000e+03</td>\n",
       "      <td>3.300000e+01</td>\n",
       "      <td>7.759000e+03</td>\n",
       "      <td>0.000000e+00</td>\n",
       "      <td>0.000000e+00</td>\n",
       "      <td>0.000000e+00</td>\n",
       "      <td>3.400000e+01</td>\n",
       "      <td>6.518645e+06</td>\n",
       "      <td>1.545785e+06</td>\n",
       "      <td>0.000000e+00</td>\n",
       "    </tr>\n",
       "    <tr>\n",
       "      <th>75%</th>\n",
       "      <td>3.894130e+06</td>\n",
       "      <td>1.579330e+12</td>\n",
       "      <td>4.000000e+00</td>\n",
       "      <td>1.600000e+01</td>\n",
       "      <td>7.291000e+03</td>\n",
       "      <td>6.850000e+03</td>\n",
       "      <td>5.930000e+03</td>\n",
       "      <td>1.160000e+02</td>\n",
       "      <td>1.149700e+04</td>\n",
       "      <td>1.000000e+00</td>\n",
       "      <td>1.000000e+00</td>\n",
       "      <td>1.000000e+00</td>\n",
       "      <td>1.600000e+02</td>\n",
       "      <td>7.735219e+06</td>\n",
       "      <td>2.109148e+06</td>\n",
       "      <td>0.000000e+00</td>\n",
       "    </tr>\n",
       "    <tr>\n",
       "      <th>max</th>\n",
       "      <td>4.706267e+06</td>\n",
       "      <td>1.579639e+12</td>\n",
       "      <td>6.000000e+00</td>\n",
       "      <td>2.300000e+01</td>\n",
       "      <td>1.074600e+04</td>\n",
       "      <td>9.523000e+03</td>\n",
       "      <td>7.268000e+03</td>\n",
       "      <td>2.551000e+03</td>\n",
       "      <td>1.436600e+04</td>\n",
       "      <td>3.000000e+00</td>\n",
       "      <td>6.000000e+00</td>\n",
       "      <td>1.020000e+02</td>\n",
       "      <td>4.037200e+04</td>\n",
       "      <td>9.692209e+06</td>\n",
       "      <td>2.688642e+06</td>\n",
       "      <td>1.000000e+00</td>\n",
       "    </tr>\n",
       "  </tbody>\n",
       "</table>\n",
       "</div>"
      ],
      "text/plain": [
       "          displayId     timestamp     dayOfWeek     hourOfDay  advertiserId  \\\n",
       "count  3.768416e+06  3.768416e+06  3.768416e+06  3.768416e+06  3.768416e+06   \n",
       "mean   3.044210e+06  1.579005e+12  2.822654e+00  1.128271e+01  4.851426e+03   \n",
       "std    1.019521e+06  3.571385e+08  1.914881e+00  5.618726e+00  2.899004e+03   \n",
       "min    1.115095e+06  1.578429e+12  0.000000e+00  0.000000e+00  1.000000e+00   \n",
       "25%    2.175378e+06  1.578715e+12  1.000000e+00  7.000000e+00  2.167000e+03   \n",
       "50%    3.118769e+06  1.578971e+12  3.000000e+00  1.000000e+01  4.705000e+03   \n",
       "75%    3.894130e+06  1.579330e+12  4.000000e+00  1.600000e+01  7.291000e+03   \n",
       "max    4.706267e+06  1.579639e+12  6.000000e+00  2.300000e+01  1.074600e+04   \n",
       "\n",
       "         campaignId    creativeId     publisher      widgetId        device  \\\n",
       "count  3.768416e+06  3.768416e+06  3.768416e+06  3.768416e+06  3.768416e+06   \n",
       "mean   4.556158e+03  3.923456e+03  2.463082e+02  7.500866e+03  3.409207e-01   \n",
       "std    2.647040e+03  2.482294e+03  5.164171e+02  4.301190e+03  4.817837e-01   \n",
       "min    3.000000e+01  6.000000e+00  0.000000e+00  9.000000e+00  0.000000e+00   \n",
       "25%    2.329000e+03  1.012000e+03  1.100000e+01  3.637000e+03  0.000000e+00   \n",
       "50%    4.355000e+03  5.102000e+03  3.300000e+01  7.759000e+03  0.000000e+00   \n",
       "75%    6.850000e+03  5.930000e+03  1.160000e+02  1.149700e+04  1.000000e+00   \n",
       "max    9.523000e+03  7.268000e+03  2.551000e+03  1.436600e+04  3.000000e+00   \n",
       "\n",
       "                 os       browser        source         docId        userId  \\\n",
       "count  3.768416e+06  3.768416e+06  3.768416e+06  3.768416e+06  3.768416e+06   \n",
       "mean   4.306032e-01  1.209916e+00  1.848337e+03  5.065981e+06  1.501631e+06   \n",
       "std    6.516009e-01  2.629931e+00  6.529483e+03  3.424284e+06  7.132266e+05   \n",
       "min    0.000000e+00  0.000000e+00  0.000000e+00  4.000000e+00  8.000000e+00   \n",
       "25%    0.000000e+00  0.000000e+00  1.200000e+01  5.285000e+05  9.327162e+05   \n",
       "50%    0.000000e+00  0.000000e+00  3.400000e+01  6.518645e+06  1.545785e+06   \n",
       "75%    1.000000e+00  1.000000e+00  1.600000e+02  7.735219e+06  2.109148e+06   \n",
       "max    6.000000e+00  1.020000e+02  4.037200e+04  9.692209e+06  2.688642e+06   \n",
       "\n",
       "            clicked  \n",
       "count  3.768416e+06  \n",
       "mean   2.234841e-01  \n",
       "std    4.165801e-01  \n",
       "min    0.000000e+00  \n",
       "25%    0.000000e+00  \n",
       "50%    0.000000e+00  \n",
       "75%    0.000000e+00  \n",
       "max    1.000000e+00  "
      ]
     },
     "execution_count": 2,
     "metadata": {},
     "output_type": "execute_result"
    }
   ],
   "source": [
    "data.describe()"
   ]
  },
  {
   "cell_type": "markdown",
   "metadata": {},
   "source": [
    "ماتریس کوریلیشن بین ویژگی‌ها بدین گونه است:"
   ]
  },
  {
   "cell_type": "code",
   "execution_count": 3,
   "metadata": {},
   "outputs": [
    {
     "data": {
      "text/plain": [
       "<matplotlib.axes._subplots.AxesSubplot at 0x1c680071c88>"
      ]
     },
     "execution_count": 3,
     "metadata": {},
     "output_type": "execute_result"
    },
    {
     "data": {
      "image/png": "[encoded data removed]",
      "text/plain": [
       "<Figure size 432x288 with 2 Axes>"
      ]
     },
     "metadata": {
      "needs_background": "light"
     },
     "output_type": "display_data"
    }
   ],
   "source": [
    "sns.heatmap(data.corr())"
   ]
  },
  {
   "cell_type": "markdown",
   "metadata": {},
   "source": [
    "که در آن بین شناسه‌های کاربر، نمایش و زمان رابطه وجود دارد. البته که این رابطه کاذب است و به علت است که شناسه‌ها اعدادی صعودی اند و وا ورود کاربر در زمان‌های بعدی، شناسه‌های بزرگتری برای کاربر و نمایش به کاربر درنظر گرفته می‌شود.  \n",
    "\n",
    "پس این روابط ارزشی در یادگیری ندارند. همچنین بین پلتفرم و سیستم‌عامل هم رابطه وجود دارد که مربوط به حوزه مطلوب ما نیست و دلایل معلوم دیگری دارد. منبع هم رابطه‌ای با منتشر کننده دارد که بنا به رابطه صفحات با سایت میزبان است و در صورتی که بخواهیم سایت‌ها را به تفکیک صفحات بررسی کنیم بدرد می‌خورد."
   ]
  },
  {
   "cell_type": "markdown",
   "metadata": {},
   "source": [
    "ویژگی شناسه کاربر را بررسی می‌کنیم:"
   ]
  },
  {
   "cell_type": "code",
   "execution_count": 4,
   "metadata": {},
   "outputs": [
    {
     "data": {
      "text/plain": [
       "(5.630821459309553, <matplotlib.axes._subplots.AxesSubplot at 0x1c6803f9cc0>)"
      ]
     },
     "execution_count": 4,
     "metadata": {},
     "output_type": "execute_result"
    },
    {
     "data": {
      "image/png": "[encoded data removed]",
      "text/plain": [
       "<Figure size 432x288 with 1 Axes>"
      ]
     },
     "metadata": {
      "needs_background": "light"
     },
     "output_type": "display_data"
    }
   ],
   "source": [
    "(np.mean(data.userId.value_counts()), sns.boxplot(data.userId.value_counts()))"
   ]
  },
  {
   "cell_type": "markdown",
   "metadata": {},
   "source": [
    "می‌بینیم که از تعداد بسیار زیادی از کاربران داده‌های بسیار کمی دارم یعنی به‌طور کلی نمی‌توانیم .روی هر کابر تحلیل جداگانه بزنیم و احتمال مراجعه به تبلیغ را به طور جداگانه برای او پیدا کنیم. با توجه به رندم بودن این ویژگی، میتوانیم آن را کنار بگذاریم.  \n",
    "\n",
    "حال ویژگی زمانی را بررسی می‌کنیم. تعداد یکتای این ویژگی بسیار بالاست و از نظر منطقی این ویژگی کمکی در یادگیری نمی‌کند. (مانند ویژگی زمان)"
   ]
  },
  {
   "cell_type": "code",
   "execution_count": 5,
   "metadata": {},
   "outputs": [
    {
     "name": "stderr",
     "output_type": "stream",
     "text": [
      "C:\\Users\\Utop\\Anaconda3\\lib\\site-packages\\scipy\\stats\\stats.py:1713: FutureWarning: Using a non-tuple sequence for multidimensional indexing is deprecated; use `arr[tuple(seq)]` instead of `arr[seq]`. In the future this will be interpreted as an array index, `arr[np.array(seq)]`, which will result either in an error or a different result.\n",
      "  return np.add.reduce(sorted[indexer] * weights, axis=axis) / sumval\n"
     ]
    },
    {
     "data": {
      "text/plain": [
       "<matplotlib.axes._subplots.AxesSubplot at 0x1c6804745f8>"
      ]
     },
     "execution_count": 5,
     "metadata": {},
     "output_type": "execute_result"
    },
    {
     "data": {
      "image/png": "[encoded data removed]",
      "text/plain": [
       "<Figure size 432x288 with 1 Axes>"
      ]
     },
     "metadata": {
      "needs_background": "light"
     },
     "output_type": "display_data"
    }
   ],
   "source": [
    "clicked = data[data.clicked==1]\n",
    "unclicked = data[data.clicked==0]\n",
    "sns.distplot(clicked.timestamp, color='red')\n",
    "sns.distplot(unclicked.timestamp)"
   ]
  },
  {
   "cell_type": "markdown",
   "metadata": {},
   "source": [
    "\n",
    "بنابر این تا اینجا ویژگی‌های زمان، شناسه‌ نمایش ، شناسه کاربر و سیستم‌عامل را کنار میگذاریم و استفاده ار ناشر بسته به انتخاب ما است. حال به سراغ ویژگی‌های زمان هفته و روز می‌رویم. نمودار تبلیغات کلیک شده و نشده برای هر ویژگی را رسم می‌کنیم:"
   ]
  },
  {
   "cell_type": "code",
   "execution_count": 7,
   "metadata": {},
   "outputs": [
    {
     "ename": "AttributeError",
     "evalue": "module 'seaborn' has no attribute 'histplot'",
     "output_type": "error",
     "traceback": [
      "\u001b[1;31m---------------------------------------------------------------------------\u001b[0m",
      "\u001b[1;31mAttributeError\u001b[0m                            Traceback (most recent call last)",
      "\u001b[1;32m<ipython-input-7-2b4ba2f3a1ae>\u001b[0m in \u001b[0;36m<module>\u001b[1;34m()\u001b[0m\n\u001b[0;32m      1\u001b[0m \u001b[0mclicked\u001b[0m \u001b[1;33m=\u001b[0m \u001b[0mdata\u001b[0m\u001b[1;33m[\u001b[0m\u001b[0mdata\u001b[0m\u001b[1;33m.\u001b[0m\u001b[0mclicked\u001b[0m\u001b[1;33m==\u001b[0m\u001b[1;36m1\u001b[0m\u001b[1;33m]\u001b[0m\u001b[1;33m\u001b[0m\u001b[1;33m\u001b[0m\u001b[0m\n\u001b[0;32m      2\u001b[0m \u001b[0munclicked\u001b[0m \u001b[1;33m=\u001b[0m \u001b[0mdata\u001b[0m\u001b[1;33m[\u001b[0m\u001b[0mdata\u001b[0m\u001b[1;33m.\u001b[0m\u001b[0mclicked\u001b[0m\u001b[1;33m==\u001b[0m\u001b[1;36m0\u001b[0m\u001b[1;33m]\u001b[0m\u001b[1;33m\u001b[0m\u001b[1;33m\u001b[0m\u001b[0m\n\u001b[1;32m----> 3\u001b[1;33m \u001b[0msns\u001b[0m\u001b[1;33m.\u001b[0m\u001b[0mhistplot\u001b[0m\u001b[1;33m(\u001b[0m\u001b[0mclicked\u001b[0m\u001b[1;33m.\u001b[0m\u001b[0mhourOfDay\u001b[0m\u001b[1;33m)\u001b[0m\u001b[1;33m\u001b[0m\u001b[1;33m\u001b[0m\u001b[0m\n\u001b[0m\u001b[0;32m      4\u001b[0m \u001b[0msns\u001b[0m\u001b[1;33m.\u001b[0m\u001b[0mhistplot\u001b[0m\u001b[1;33m(\u001b[0m\u001b[0munclicked\u001b[0m\u001b[1;33m.\u001b[0m\u001b[0mhourOfDay\u001b[0m\u001b[1;33m)\u001b[0m\u001b[1;33m\u001b[0m\u001b[1;33m\u001b[0m\u001b[0m\n",
      "\u001b[1;31mAttributeError\u001b[0m: module 'seaborn' has no attribute 'histplot'"
     ]
    }
   ],
   "source": [
    "clicked = data[data.clicked==1]\n",
    "unclicked = data[data.clicked==0]\n",
    "sns.histplot(clicked.hourOfDay)\n",
    "sns.histplot(unclicked.hourOfDay)"
   ]
  },
  {
   "cell_type": "code",
   "execution_count": 8,
   "metadata": {},
   "outputs": [
    {
     "ename": "AttributeError",
     "evalue": "module 'seaborn' has no attribute 'histplot'",
     "output_type": "error",
     "traceback": [
      "\u001b[1;31m---------------------------------------------------------------------------\u001b[0m",
      "\u001b[1;31mAttributeError\u001b[0m                            Traceback (most recent call last)",
      "\u001b[1;32m<ipython-input-8-4d3a3108a101>\u001b[0m in \u001b[0;36m<module>\u001b[1;34m()\u001b[0m\n\u001b[0;32m      1\u001b[0m \u001b[0mclicked\u001b[0m \u001b[1;33m=\u001b[0m \u001b[0mdata\u001b[0m\u001b[1;33m[\u001b[0m\u001b[0mdata\u001b[0m\u001b[1;33m.\u001b[0m\u001b[0mclicked\u001b[0m\u001b[1;33m==\u001b[0m\u001b[1;36m1\u001b[0m\u001b[1;33m]\u001b[0m\u001b[1;33m\u001b[0m\u001b[1;33m\u001b[0m\u001b[0m\n\u001b[0;32m      2\u001b[0m \u001b[0munclicked\u001b[0m \u001b[1;33m=\u001b[0m \u001b[0mdata\u001b[0m\u001b[1;33m[\u001b[0m\u001b[0mdata\u001b[0m\u001b[1;33m.\u001b[0m\u001b[0mclicked\u001b[0m\u001b[1;33m==\u001b[0m\u001b[1;36m0\u001b[0m\u001b[1;33m]\u001b[0m\u001b[1;33m\u001b[0m\u001b[1;33m\u001b[0m\u001b[0m\n\u001b[1;32m----> 3\u001b[1;33m \u001b[0msns\u001b[0m\u001b[1;33m.\u001b[0m\u001b[0mhistplot\u001b[0m\u001b[1;33m(\u001b[0m\u001b[0mclicked\u001b[0m\u001b[1;33m.\u001b[0m\u001b[0mdayOfWeek\u001b[0m\u001b[1;33m)\u001b[0m\u001b[1;33m\u001b[0m\u001b[1;33m\u001b[0m\u001b[0m\n\u001b[0m\u001b[0;32m      4\u001b[0m \u001b[0msns\u001b[0m\u001b[1;33m.\u001b[0m\u001b[0mhistplot\u001b[0m\u001b[1;33m(\u001b[0m\u001b[0munclicked\u001b[0m\u001b[1;33m.\u001b[0m\u001b[0mdayOfWeek\u001b[0m\u001b[1;33m)\u001b[0m\u001b[1;33m\u001b[0m\u001b[1;33m\u001b[0m\u001b[0m\n",
      "\u001b[1;31mAttributeError\u001b[0m: module 'seaborn' has no attribute 'histplot'"
     ]
    }
   ],
   "source": [
    "clicked = data[data.clicked==1]\n",
    "unclicked = data[data.clicked==0]\n",
    "sns.histplot(clicked.dayOfWeek)\n",
    "sns.histplot(unclicked.dayOfWeek)"
   ]
  },
  {
   "cell_type": "markdown",
   "metadata": {},
   "source": [
    "می‌بینیم که نسبت تبلیغات مراجعه شده و نشده در روز‌ها و ساعت مختلف برابر است. یعنی این ویژگی اگر به نتهایی و جدا از دیگر ویژگی‌ها (مانند شناسه کاربر و محتوای تبلیغ) بررسی شود، کمکی نخواهد کرد. اما در روش ‌هایی که تاثیر مقادیر مختلف دو متغیر را در نظر می‌گیرد (مانند ماشین فکتوریزیشن) این ویژگی‌ها ممکن است به‌کار آید. زیرا ممکن است هر فرد در ساعات خاصی یا برای محتوا‌های خاصی بیشتر به تبلیغ‌مراجعه کند. (علایق و زمان‌های کاری افراد متفاوت است.)"
   ]
  },
  {
   "cell_type": "markdown",
   "metadata": {},
   "source": [
    "svm:"
   ]
  },
  {
   "cell_type": "code",
   "execution_count": 9,
   "metadata": {},
   "outputs": [
    {
     "name": "stdout",
     "output_type": "stream",
     "text": [
      "<class 'pandas.core.frame.DataFrame'>\n",
      "RangeIndex: 3768416 entries, 0 to 3768415\n",
      "Data columns (total 16 columns):\n",
      "displayId       int64\n",
      "timestamp       int64\n",
      "dayOfWeek       int64\n",
      "hourOfDay       int64\n",
      "advertiserId    int64\n",
      "campaignId      int64\n",
      "creativeId      int64\n",
      "publisher       int64\n",
      "widgetId        int64\n",
      "device          int64\n",
      "os              int64\n",
      "browser         int64\n",
      "source          int64\n",
      "docId           int64\n",
      "userId          int64\n",
      "clicked         int64\n",
      "dtypes: int64(16)\n",
      "memory usage: 460.0 MB\n"
     ]
    }
   ],
   "source": [
    "from sklearn import svm\n",
    "data.info()"
   ]
  },
  {
   "cell_type": "code",
   "execution_count": 10,
   "metadata": {},
   "outputs": [
    {
     "name": "stdout",
     "output_type": "stream",
     "text": [
      "<class 'pandas.core.frame.DataFrame'>\n",
      "RangeIndex: 3768416 entries, 0 to 3768415\n",
      "Data columns (total 9 columns):\n",
      "dayOfWeek       int64\n",
      "hourOfDay       int64\n",
      "advertiserId    int64\n",
      "campaignId      int64\n",
      "creativeId      int64\n",
      "device          int64\n",
      "os              int64\n",
      "source          int64\n",
      "docId           int64\n",
      "dtypes: int64(9)\n",
      "memory usage: 258.8 MB\n"
     ]
    },
    {
     "data": {
      "text/plain": [
       "SVC(C=4, cache_size=200, class_weight=None, coef0=0.0,\n",
       "  decision_function_shape='ovr', degree=3, gamma='auto', kernel='linear',\n",
       "  max_iter=-1, probability=False, random_state=None, shrinking=True,\n",
       "  tol=0.001, verbose=False)"
      ]
     },
     "execution_count": 10,
     "metadata": {},
     "output_type": "execute_result"
    }
   ],
   "source": [
    "clsf = svm.SVC(kernel='linear', C=4)\n",
    "classes = data['clicked']\n",
    "# data = data.drop(columns=['displayId', 'timestamp', 'publisher', 'userId', 'browser', 'widgetId'])\n",
    "newdata=data.drop(data.columns[[0, 1, 7, 8, 11, 14, 15]] , axis=1)\n",
    "newdata.info()\n",
    "# newdata[0:3]\n",
    "clsf.fit(newdata[0:10], classes[0:10])"
   ]
  },
  {
   "cell_type": "markdown",
   "metadata": {},
   "source": [
    "boosting:\n",
    "بوستینگ یک فرا الگوریتم ترکیبی در حوزه یادگیری ماشین است که برای کاهش عدم توازن و همچنین واریانس به کار می‌رود. این روش در یادگیری با نظارت مورد استفاده قرار گرفته و از خانواده الگوریتم‌های یادگیری ماشین به شمار می‌رود. این تکنیک، روشی برای تبدیل سیستمهای یادگیری ضعیف به قوی بر اساس ترکیب نتایج طبقه بندهای مختلف است. ایده اولیه این روش بر اساس سؤال مطرح شده توسط کیرنس و شجاع (۱۹۸۸، ۱۹۸۹) به وجود آمده است: آیا می‌توان با ترکیب مجموعه‌ای از سیستم‌های یادگیری ضعیف یک سیستم یادگیری قوی ایجاد نمود؟\n",
    "\n",
    "سیستم یادگیری ضعیف، یادگیرنده‌ای است که به عنوان یک طبقه بند، تنها کمی بهتر از حالت تصادفی عمل می‌نماید (برچسب نمونه‌ها را بهتر از تصادفی حدس می‌زند). در مقابل یادگیرنده قوی طبقه‌بندی است که به تنهایی می‌تواند برچسب نمونه‌ها را خوبی پیش بینی نماید."
   ]
  },
  {
   "cell_type": "code",
   "execution_count": 12,
   "metadata": {},
   "outputs": [
    {
     "data": {
      "text/html": [
       "<div>\n",
       "<style scoped>\n",
       "    .dataframe tbody tr th:only-of-type {\n",
       "        vertical-align: middle;\n",
       "    }\n",
       "\n",
       "    .dataframe tbody tr th {\n",
       "        vertical-align: top;\n",
       "    }\n",
       "\n",
       "    .dataframe thead th {\n",
       "        text-align: right;\n",
       "    }\n",
       "</style>\n",
       "<table border=\"1\" class=\"dataframe\">\n",
       "  <thead>\n",
       "    <tr style=\"text-align: right;\">\n",
       "      <th></th>\n",
       "      <th>displayId</th>\n",
       "      <th>timestamp</th>\n",
       "      <th>dayOfWeek</th>\n",
       "      <th>hourOfDay</th>\n",
       "      <th>advertiserId</th>\n",
       "      <th>campaignId</th>\n",
       "      <th>creativeId</th>\n",
       "      <th>publisher</th>\n",
       "      <th>widgetId</th>\n",
       "      <th>device</th>\n",
       "      <th>os</th>\n",
       "      <th>browser</th>\n",
       "      <th>source</th>\n",
       "      <th>docId</th>\n",
       "      <th>userId</th>\n",
       "      <th>clicked</th>\n",
       "    </tr>\n",
       "  </thead>\n",
       "  <tbody>\n",
       "    <tr>\n",
       "      <th>count</th>\n",
       "      <td>3.768416e+06</td>\n",
       "      <td>3.768416e+06</td>\n",
       "      <td>3.768416e+06</td>\n",
       "      <td>3.768416e+06</td>\n",
       "      <td>3.768416e+06</td>\n",
       "      <td>3.768416e+06</td>\n",
       "      <td>3.768416e+06</td>\n",
       "      <td>3.768416e+06</td>\n",
       "      <td>3.768416e+06</td>\n",
       "      <td>3.768416e+06</td>\n",
       "      <td>3.768416e+06</td>\n",
       "      <td>3.768416e+06</td>\n",
       "      <td>3.768416e+06</td>\n",
       "      <td>3.768416e+06</td>\n",
       "      <td>3.768416e+06</td>\n",
       "      <td>3.768416e+06</td>\n",
       "    </tr>\n",
       "    <tr>\n",
       "      <th>mean</th>\n",
       "      <td>3.044210e+06</td>\n",
       "      <td>1.579005e+12</td>\n",
       "      <td>2.822654e+00</td>\n",
       "      <td>1.128271e+01</td>\n",
       "      <td>4.851426e+03</td>\n",
       "      <td>4.556158e+03</td>\n",
       "      <td>3.923456e+03</td>\n",
       "      <td>2.463082e+02</td>\n",
       "      <td>7.500866e+03</td>\n",
       "      <td>3.409207e-01</td>\n",
       "      <td>4.306032e-01</td>\n",
       "      <td>1.209916e+00</td>\n",
       "      <td>1.848337e+03</td>\n",
       "      <td>5.065981e+06</td>\n",
       "      <td>1.501631e+06</td>\n",
       "      <td>2.234841e-01</td>\n",
       "    </tr>\n",
       "    <tr>\n",
       "      <th>std</th>\n",
       "      <td>1.019521e+06</td>\n",
       "      <td>3.571385e+08</td>\n",
       "      <td>1.914881e+00</td>\n",
       "      <td>5.618726e+00</td>\n",
       "      <td>2.899004e+03</td>\n",
       "      <td>2.647040e+03</td>\n",
       "      <td>2.482294e+03</td>\n",
       "      <td>5.164171e+02</td>\n",
       "      <td>4.301190e+03</td>\n",
       "      <td>4.817837e-01</td>\n",
       "      <td>6.516009e-01</td>\n",
       "      <td>2.629931e+00</td>\n",
       "      <td>6.529483e+03</td>\n",
       "      <td>3.424284e+06</td>\n",
       "      <td>7.132266e+05</td>\n",
       "      <td>4.165801e-01</td>\n",
       "    </tr>\n",
       "    <tr>\n",
       "      <th>min</th>\n",
       "      <td>1.115095e+06</td>\n",
       "      <td>1.578429e+12</td>\n",
       "      <td>0.000000e+00</td>\n",
       "      <td>0.000000e+00</td>\n",
       "      <td>1.000000e+00</td>\n",
       "      <td>3.000000e+01</td>\n",
       "      <td>6.000000e+00</td>\n",
       "      <td>0.000000e+00</td>\n",
       "      <td>9.000000e+00</td>\n",
       "      <td>0.000000e+00</td>\n",
       "      <td>0.000000e+00</td>\n",
       "      <td>0.000000e+00</td>\n",
       "      <td>0.000000e+00</td>\n",
       "      <td>4.000000e+00</td>\n",
       "      <td>8.000000e+00</td>\n",
       "      <td>0.000000e+00</td>\n",
       "    </tr>\n",
       "    <tr>\n",
       "      <th>25%</th>\n",
       "      <td>2.175378e+06</td>\n",
       "      <td>1.578715e+12</td>\n",
       "      <td>1.000000e+00</td>\n",
       "      <td>7.000000e+00</td>\n",
       "      <td>2.167000e+03</td>\n",
       "      <td>2.329000e+03</td>\n",
       "      <td>1.012000e+03</td>\n",
       "      <td>1.100000e+01</td>\n",
       "      <td>3.637000e+03</td>\n",
       "      <td>0.000000e+00</td>\n",
       "      <td>0.000000e+00</td>\n",
       "      <td>0.000000e+00</td>\n",
       "      <td>1.200000e+01</td>\n",
       "      <td>5.285000e+05</td>\n",
       "      <td>9.327162e+05</td>\n",
       "      <td>0.000000e+00</td>\n",
       "    </tr>\n",
       "    <tr>\n",
       "      <th>50%</th>\n",
       "      <td>3.118769e+06</td>\n",
       "      <td>1.578971e+12</td>\n",
       "      <td>3.000000e+00</td>\n",
       "      <td>1.000000e+01</td>\n",
       "      <td>4.705000e+03</td>\n",
       "      <td>4.355000e+03</td>\n",
       "      <td>5.102000e+03</td>\n",
       "      <td>3.300000e+01</td>\n",
       "      <td>7.759000e+03</td>\n",
       "      <td>0.000000e+00</td>\n",
       "      <td>0.000000e+00</td>\n",
       "      <td>0.000000e+00</td>\n",
       "      <td>3.400000e+01</td>\n",
       "      <td>6.518645e+06</td>\n",
       "      <td>1.545785e+06</td>\n",
       "      <td>0.000000e+00</td>\n",
       "    </tr>\n",
       "    <tr>\n",
       "      <th>75%</th>\n",
       "      <td>3.894130e+06</td>\n",
       "      <td>1.579330e+12</td>\n",
       "      <td>4.000000e+00</td>\n",
       "      <td>1.600000e+01</td>\n",
       "      <td>7.291000e+03</td>\n",
       "      <td>6.850000e+03</td>\n",
       "      <td>5.930000e+03</td>\n",
       "      <td>1.160000e+02</td>\n",
       "      <td>1.149700e+04</td>\n",
       "      <td>1.000000e+00</td>\n",
       "      <td>1.000000e+00</td>\n",
       "      <td>1.000000e+00</td>\n",
       "      <td>1.600000e+02</td>\n",
       "      <td>7.735219e+06</td>\n",
       "      <td>2.109148e+06</td>\n",
       "      <td>0.000000e+00</td>\n",
       "    </tr>\n",
       "    <tr>\n",
       "      <th>max</th>\n",
       "      <td>4.706267e+06</td>\n",
       "      <td>1.579639e+12</td>\n",
       "      <td>6.000000e+00</td>\n",
       "      <td>2.300000e+01</td>\n",
       "      <td>1.074600e+04</td>\n",
       "      <td>9.523000e+03</td>\n",
       "      <td>7.268000e+03</td>\n",
       "      <td>2.551000e+03</td>\n",
       "      <td>1.436600e+04</td>\n",
       "      <td>3.000000e+00</td>\n",
       "      <td>6.000000e+00</td>\n",
       "      <td>1.020000e+02</td>\n",
       "      <td>4.037200e+04</td>\n",
       "      <td>9.692209e+06</td>\n",
       "      <td>2.688642e+06</td>\n",
       "      <td>1.000000e+00</td>\n",
       "    </tr>\n",
       "  </tbody>\n",
       "</table>\n",
       "</div>"
      ],
      "text/plain": [
       "          displayId     timestamp     dayOfWeek     hourOfDay  advertiserId  \\\n",
       "count  3.768416e+06  3.768416e+06  3.768416e+06  3.768416e+06  3.768416e+06   \n",
       "mean   3.044210e+06  1.579005e+12  2.822654e+00  1.128271e+01  4.851426e+03   \n",
       "std    1.019521e+06  3.571385e+08  1.914881e+00  5.618726e+00  2.899004e+03   \n",
       "min    1.115095e+06  1.578429e+12  0.000000e+00  0.000000e+00  1.000000e+00   \n",
       "25%    2.175378e+06  1.578715e+12  1.000000e+00  7.000000e+00  2.167000e+03   \n",
       "50%    3.118769e+06  1.578971e+12  3.000000e+00  1.000000e+01  4.705000e+03   \n",
       "75%    3.894130e+06  1.579330e+12  4.000000e+00  1.600000e+01  7.291000e+03   \n",
       "max    4.706267e+06  1.579639e+12  6.000000e+00  2.300000e+01  1.074600e+04   \n",
       "\n",
       "         campaignId    creativeId     publisher      widgetId        device  \\\n",
       "count  3.768416e+06  3.768416e+06  3.768416e+06  3.768416e+06  3.768416e+06   \n",
       "mean   4.556158e+03  3.923456e+03  2.463082e+02  7.500866e+03  3.409207e-01   \n",
       "std    2.647040e+03  2.482294e+03  5.164171e+02  4.301190e+03  4.817837e-01   \n",
       "min    3.000000e+01  6.000000e+00  0.000000e+00  9.000000e+00  0.000000e+00   \n",
       "25%    2.329000e+03  1.012000e+03  1.100000e+01  3.637000e+03  0.000000e+00   \n",
       "50%    4.355000e+03  5.102000e+03  3.300000e+01  7.759000e+03  0.000000e+00   \n",
       "75%    6.850000e+03  5.930000e+03  1.160000e+02  1.149700e+04  1.000000e+00   \n",
       "max    9.523000e+03  7.268000e+03  2.551000e+03  1.436600e+04  3.000000e+00   \n",
       "\n",
       "                 os       browser        source         docId        userId  \\\n",
       "count  3.768416e+06  3.768416e+06  3.768416e+06  3.768416e+06  3.768416e+06   \n",
       "mean   4.306032e-01  1.209916e+00  1.848337e+03  5.065981e+06  1.501631e+06   \n",
       "std    6.516009e-01  2.629931e+00  6.529483e+03  3.424284e+06  7.132266e+05   \n",
       "min    0.000000e+00  0.000000e+00  0.000000e+00  4.000000e+00  8.000000e+00   \n",
       "25%    0.000000e+00  0.000000e+00  1.200000e+01  5.285000e+05  9.327162e+05   \n",
       "50%    0.000000e+00  0.000000e+00  3.400000e+01  6.518645e+06  1.545785e+06   \n",
       "75%    1.000000e+00  1.000000e+00  1.600000e+02  7.735219e+06  2.109148e+06   \n",
       "max    6.000000e+00  1.020000e+02  4.037200e+04  9.692209e+06  2.688642e+06   \n",
       "\n",
       "            clicked  \n",
       "count  3.768416e+06  \n",
       "mean   2.234841e-01  \n",
       "std    4.165801e-01  \n",
       "min    0.000000e+00  \n",
       "25%    0.000000e+00  \n",
       "50%    0.000000e+00  \n",
       "75%    0.000000e+00  \n",
       "max    1.000000e+00  "
      ]
     },
     "execution_count": 12,
     "metadata": {},
     "output_type": "execute_result"
    }
   ],
   "source": [
    "data.describe()"
   ]
  },
  {
   "cell_type": "code",
   "execution_count": 13,
   "metadata": {},
   "outputs": [
    {
     "name": "stdout",
     "output_type": "stream",
     "text": [
      "<class 'pandas.core.frame.DataFrame'>\n",
      "RangeIndex: 3768416 entries, 0 to 3768415\n",
      "Data columns (total 9 columns):\n",
      "dayOfWeek       int64\n",
      "hourOfDay       int64\n",
      "advertiserId    int64\n",
      "campaignId      int64\n",
      "creativeId      int64\n",
      "device          int64\n",
      "os              int64\n",
      "source          int64\n",
      "docId           int64\n",
      "dtypes: int64(9)\n",
      "memory usage: 258.8 MB\n"
     ]
    },
    {
     "name": "stderr",
     "output_type": "stream",
     "text": [
      "C:\\Users\\Utop\\Anaconda3\\lib\\site-packages\\xgboost\\sklearn.py:888: UserWarning: The use of label encoder in XGBClassifier is deprecated and will be removed in a future release. To remove this warning, do the following: 1) Pass option use_label_encoder=False when constructing XGBClassifier object; and 2) Encode your labels (y) as integers starting with 0, i.e. 0, 1, 2, ..., [num_class - 1].\n",
      "  warnings.warn(label_encoder_deprecation_msg, UserWarning)\n"
     ]
    },
    {
     "name": "stdout",
     "output_type": "stream",
     "text": [
      "[13:05:03] WARNING: C:/Users/Administrator/workspace/xgboost-win64_release_1.3.0/src/learner.cc:1061: Starting in XGBoost 1.3.0, the default evaluation metric used with the objective 'binary:logistic' was changed from 'error' to 'logloss'. Explicitly set eval_metric if you'd like to restore the old behavior.\n"
     ]
    },
    {
     "data": {
      "text/plain": [
       "XGBClassifier(base_score=0.5, booster='gbtree', colsample_bylevel=1,\n",
       "       colsample_bynode=1, colsample_bytree=1, gamma=0, gpu_id=-1,\n",
       "       importance_type='gain', interaction_constraints='',\n",
       "       learning_rate=0.300000012, max_delta_step=0, max_depth=6,\n",
       "       min_child_weight=1, missing=nan, monotone_constraints='()',\n",
       "       n_estimators=100, n_jobs=4, num_parallel_tree=1,\n",
       "       objective='binary:logistic', random_state=0, reg_alpha=1,\n",
       "       reg_lambda=1, scale_pos_weight=1, subsample=1, tree_method='exact',\n",
       "       use_label_encoder=True, validate_parameters=1, verbosity=None)"
      ]
     },
     "execution_count": 13,
     "metadata": {},
     "output_type": "execute_result"
    }
   ],
   "source": [
    "import xgboost as xgb\n",
    "from sklearn.metrics import mean_squared_error\n",
    "# Classification\n",
    "clf_boosting = xgb.XGBClassifier(n_estimators=100, reg_lambda=1,reg_alpha=1, gamma=0, max_depth=None)\n",
    "# n_estimator is num of gradient boosted trees # reg_alpha and reg_lmbda are regularization term # gamma is Minimum loss\n",
    "classes_boosting = data['clicked']\n",
    "# data = data.drop(columns=['displayId', 'timestamp', 'publisher', 'userId', 'browser', 'widgetId'])\n",
    "newdata_boosting=data.drop(data.columns[[0, 1, 7, 8, 11, 14, 15]] , axis=1)\n",
    "newdata_boosting.info()\n",
    "# newdata[0:3]\n",
    "clf_boosting.fit(newdata_boosting[0:10], classes_boosting[0:10])\n",
    "# Prediction\n",
    "#pred_y = clf.predict(test_x)"
   ]
  },
  {
   "cell_type": "markdown",
   "metadata": {},
   "source": [
    "random:"
   ]
  },
  {
   "cell_type": "code",
   "execution_count": 15,
   "metadata": {},
   "outputs": [],
   "source": [
    "y = data[\"clicked\"]\n",
    "x = data.drop(data.columns[[0, 1, 7, 8, 11, 14, 15]] , axis=1)\n",
    "x_test = x.iloc[0:int(0.2*len(x))]\n",
    "x_train = x[int(0.2*len(x)):]\n",
    "y_train = y[int(0.2*len(y)):]\n",
    "y_test = y.iloc[0:int(0.2*len(y))]"
   ]
  },
  {
   "cell_type": "code",
   "execution_count": null,
   "metadata": {},
   "outputs": [
    {
     "name": "stderr",
     "output_type": "stream",
     "text": [
      "C:\\Users\\Utop\\Anaconda3\\lib\\site-packages\\sklearn\\ensemble\\weight_boosting.py:29: DeprecationWarning: numpy.core.umath_tests is an internal NumPy module and should not be imported. It will be removed in a future NumPy release.\n",
      "  from numpy.core.umath_tests import inner1d\n"
     ]
    }
   ],
   "source": [
    "from sklearn.ensemble import RandomForestClassifier\n",
    "from sklearn import metrics\n",
    "clf = RandomForestClassifier(n_estimators=1000,max_depth=3000)\n",
    "clf.fit(x_train,y_train)\n",
    "y_pred = clf.predict(x_test)\n",
    "print(\"AUC : %.4f\" %metrics.roc_auc_score(y_test, y_pred))\n",
    "print(\"Cross-entropy loss : %.4f \" %metrics.log_loss(y_test,y_pred))\n",
    "print(\"F1 score : %.4f\" %metrics.f1_score(y_test,y_pred,average=\"micro\"))"
   ]
  },
  {
   "cell_type": "markdown",
   "metadata": {},
   "source": [
    "logestic:"
   ]
  },
  {
   "cell_type": "code",
   "execution_count": null,
   "metadata": {},
   "outputs": [],
   "source": [
    "from sklearn.linear_model import LogisticRegression\n",
    "clf = LogisticRegression(random_state=0,solver=\"saga\",multi_class=\"ovr\",max_iter=1000)\n",
    "clf.fit(x_train,y_train)\n",
    "y_pred = clf.predict(x_test)\n",
    "print(\"AUC : %.4f\" %metrics.roc_auc_score(y_test, y_pred))\n",
    "print(\"Cross-entropy loss : %.4f \" %metrics.log_loss(y_test,y_pred))\n",
    "print(\"F1 score : %.4f\" %metrics.f1_score(y_test,y_pred,average=\"micro\"))"
   ]
  }
 ],
 "metadata": {
  "kernelspec": {
   "display_name": "Python 3",
   "language": "python",
   "name": "python3"
  },
  "language_info": {
   "codemirror_mode": {
    "name": "ipython",
    "version": 3
   },
   "file_extension": ".py",
   "mimetype": "text/x-python",
   "name": "python",
   "nbconvert_exporter": "python",
   "pygments_lexer": "ipython3",
   "version": "3.7.3"
  }
 },
 "nbformat": 4,
 "nbformat_minor": 2
}
