{
 "cells": [
  {
   "cell_type": "markdown",
   "metadata": {},
   "source": [
    "eda:\n",
    "در این مرحله با نگاهی کلی به دیتاست، وضعیت ویژگی‌ها و اهمیت و تاثیر آنها در یادگیری را بررسی می‌کنیم.\n",
    "با توجه به محدویت منابع پردازشی که در اختیار داشتیم و اینکه در کتابخانه های موحود نمی شود بیشتر از 40000 داده رو داد تصمیم بر این شد که به صورت زیر 10000 داده به صورت رندوم از داده های موجود انتخاب شود و از آنها ترین صورت بگیرد."
   ]
  },
  {
   "cell_type": "code",
   "execution_count": 6,
   "metadata": {},
   "outputs": [],
   "source": [
    "import seaborn as sns\n",
    "import pandas as ps\n",
    "import numpy as np\n",
    "import random\n",
    "filename = \"train_data.csv\"\n",
    "n = sum(1 for line in open(filename)) - 1 #number of records in file (excludes header)\n",
    "s = 10000 #desired sample size\n",
    "skip = sorted(random.sample(range(1,n+1),n-s)) #the 0-indexed header will not be included in the skip list\n",
    "data = ps.read_csv(filename, skiprows=skip)\n",
    "\n",
    "\n",
    "#data = ps.read_csv(\"train_data.csv\")"
   ]
  },
  {
   "cell_type": "code",
   "execution_count": 7,
   "metadata": {},
   "outputs": [
    {
     "data": {
      "text/html": [
       "<div>\n",
       "<style scoped>\n",
       "    .dataframe tbody tr th:only-of-type {\n",
       "        vertical-align: middle;\n",
       "    }\n",
       "\n",
       "    .dataframe tbody tr th {\n",
       "        vertical-align: top;\n",
       "    }\n",
       "\n",
       "    .dataframe thead th {\n",
       "        text-align: right;\n",
       "    }\n",
       "</style>\n",
       "<table border=\"1\" class=\"dataframe\">\n",
       "  <thead>\n",
       "    <tr style=\"text-align: right;\">\n",
       "      <th></th>\n",
       "      <th>displayId</th>\n",
       "      <th>timestamp</th>\n",
       "      <th>dayOfWeek</th>\n",
       "      <th>hourOfDay</th>\n",
       "      <th>advertiserId</th>\n",
       "      <th>campaignId</th>\n",
       "      <th>creativeId</th>\n",
       "      <th>publisher</th>\n",
       "      <th>widgetId</th>\n",
       "      <th>device</th>\n",
       "      <th>os</th>\n",
       "      <th>browser</th>\n",
       "      <th>source</th>\n",
       "      <th>docId</th>\n",
       "      <th>userId</th>\n",
       "      <th>clicked</th>\n",
       "    </tr>\n",
       "  </thead>\n",
       "  <tbody>\n",
       "    <tr>\n",
       "      <th>count</th>\n",
       "      <td>1.000000e+04</td>\n",
       "      <td>1.000000e+04</td>\n",
       "      <td>10000.000000</td>\n",
       "      <td>10000.000000</td>\n",
       "      <td>10000.000000</td>\n",
       "      <td>10000.000000</td>\n",
       "      <td>10000.000000</td>\n",
       "      <td>10000.000000</td>\n",
       "      <td>10000.000000</td>\n",
       "      <td>10000.000000</td>\n",
       "      <td>10000.000000</td>\n",
       "      <td>10000.000000</td>\n",
       "      <td>10000.000000</td>\n",
       "      <td>1.000000e+04</td>\n",
       "      <td>1.000000e+04</td>\n",
       "      <td>10000.000000</td>\n",
       "    </tr>\n",
       "    <tr>\n",
       "      <th>mean</th>\n",
       "      <td>3.046091e+06</td>\n",
       "      <td>1.579004e+12</td>\n",
       "      <td>2.857100</td>\n",
       "      <td>11.257500</td>\n",
       "      <td>4765.921500</td>\n",
       "      <td>4552.734800</td>\n",
       "      <td>3895.595300</td>\n",
       "      <td>246.011700</td>\n",
       "      <td>7492.494600</td>\n",
       "      <td>0.343700</td>\n",
       "      <td>0.437100</td>\n",
       "      <td>1.186800</td>\n",
       "      <td>1811.449100</td>\n",
       "      <td>5.073105e+06</td>\n",
       "      <td>1.504000e+06</td>\n",
       "      <td>0.217800</td>\n",
       "    </tr>\n",
       "    <tr>\n",
       "      <th>std</th>\n",
       "      <td>1.020660e+06</td>\n",
       "      <td>3.575235e+08</td>\n",
       "      <td>1.925941</td>\n",
       "      <td>5.653476</td>\n",
       "      <td>2915.736633</td>\n",
       "      <td>2641.487122</td>\n",
       "      <td>2488.282684</td>\n",
       "      <td>513.661649</td>\n",
       "      <td>4329.381118</td>\n",
       "      <td>0.482694</td>\n",
       "      <td>0.650912</td>\n",
       "      <td>2.533919</td>\n",
       "      <td>6425.090463</td>\n",
       "      <td>3.439867e+06</td>\n",
       "      <td>7.162232e+05</td>\n",
       "      <td>0.412771</td>\n",
       "    </tr>\n",
       "    <tr>\n",
       "      <th>min</th>\n",
       "      <td>1.204383e+06</td>\n",
       "      <td>1.578429e+12</td>\n",
       "      <td>0.000000</td>\n",
       "      <td>0.000000</td>\n",
       "      <td>1.000000</td>\n",
       "      <td>30.000000</td>\n",
       "      <td>6.000000</td>\n",
       "      <td>0.000000</td>\n",
       "      <td>9.000000</td>\n",
       "      <td>0.000000</td>\n",
       "      <td>0.000000</td>\n",
       "      <td>0.000000</td>\n",
       "      <td>0.000000</td>\n",
       "      <td>2.300000e+01</td>\n",
       "      <td>2.320000e+02</td>\n",
       "      <td>0.000000</td>\n",
       "    </tr>\n",
       "    <tr>\n",
       "      <th>25%</th>\n",
       "      <td>2.179794e+06</td>\n",
       "      <td>1.578713e+12</td>\n",
       "      <td>1.000000</td>\n",
       "      <td>7.000000</td>\n",
       "      <td>2167.000000</td>\n",
       "      <td>2283.000000</td>\n",
       "      <td>713.000000</td>\n",
       "      <td>11.000000</td>\n",
       "      <td>3637.000000</td>\n",
       "      <td>0.000000</td>\n",
       "      <td>0.000000</td>\n",
       "      <td>0.000000</td>\n",
       "      <td>12.000000</td>\n",
       "      <td>5.440758e+05</td>\n",
       "      <td>9.352110e+05</td>\n",
       "      <td>0.000000</td>\n",
       "    </tr>\n",
       "    <tr>\n",
       "      <th>50%</th>\n",
       "      <td>3.115414e+06</td>\n",
       "      <td>1.578972e+12</td>\n",
       "      <td>3.000000</td>\n",
       "      <td>10.000000</td>\n",
       "      <td>4439.000000</td>\n",
       "      <td>4257.000000</td>\n",
       "      <td>5051.000000</td>\n",
       "      <td>33.000000</td>\n",
       "      <td>7759.000000</td>\n",
       "      <td>0.000000</td>\n",
       "      <td>0.000000</td>\n",
       "      <td>0.000000</td>\n",
       "      <td>34.000000</td>\n",
       "      <td>6.526191e+06</td>\n",
       "      <td>1.552722e+06</td>\n",
       "      <td>0.000000</td>\n",
       "    </tr>\n",
       "    <tr>\n",
       "      <th>75%</th>\n",
       "      <td>3.902539e+06</td>\n",
       "      <td>1.579329e+12</td>\n",
       "      <td>4.000000</td>\n",
       "      <td>16.000000</td>\n",
       "      <td>6973.000000</td>\n",
       "      <td>6798.000000</td>\n",
       "      <td>5920.500000</td>\n",
       "      <td>116.000000</td>\n",
       "      <td>11571.000000</td>\n",
       "      <td>1.000000</td>\n",
       "      <td>1.000000</td>\n",
       "      <td>1.000000</td>\n",
       "      <td>160.000000</td>\n",
       "      <td>7.794060e+06</td>\n",
       "      <td>2.112412e+06</td>\n",
       "      <td>0.000000</td>\n",
       "    </tr>\n",
       "    <tr>\n",
       "      <th>max</th>\n",
       "      <td>4.706260e+06</td>\n",
       "      <td>1.579638e+12</td>\n",
       "      <td>6.000000</td>\n",
       "      <td>23.000000</td>\n",
       "      <td>10556.000000</td>\n",
       "      <td>9491.000000</td>\n",
       "      <td>7253.000000</td>\n",
       "      <td>2525.000000</td>\n",
       "      <td>14366.000000</td>\n",
       "      <td>3.000000</td>\n",
       "      <td>6.000000</td>\n",
       "      <td>51.000000</td>\n",
       "      <td>39680.000000</td>\n",
       "      <td>9.684055e+06</td>\n",
       "      <td>2.688638e+06</td>\n",
       "      <td>1.000000</td>\n",
       "    </tr>\n",
       "  </tbody>\n",
       "</table>\n",
       "</div>"
      ],
      "text/plain": [
       "          displayId     timestamp     dayOfWeek     hourOfDay  advertiserId  \\\n",
       "count  1.000000e+04  1.000000e+04  10000.000000  10000.000000  10000.000000   \n",
       "mean   3.046091e+06  1.579004e+12      2.857100     11.257500   4765.921500   \n",
       "std    1.020660e+06  3.575235e+08      1.925941      5.653476   2915.736633   \n",
       "min    1.204383e+06  1.578429e+12      0.000000      0.000000      1.000000   \n",
       "25%    2.179794e+06  1.578713e+12      1.000000      7.000000   2167.000000   \n",
       "50%    3.115414e+06  1.578972e+12      3.000000     10.000000   4439.000000   \n",
       "75%    3.902539e+06  1.579329e+12      4.000000     16.000000   6973.000000   \n",
       "max    4.706260e+06  1.579638e+12      6.000000     23.000000  10556.000000   \n",
       "\n",
       "         campaignId    creativeId     publisher      widgetId        device  \\\n",
       "count  10000.000000  10000.000000  10000.000000  10000.000000  10000.000000   \n",
       "mean    4552.734800   3895.595300    246.011700   7492.494600      0.343700   \n",
       "std     2641.487122   2488.282684    513.661649   4329.381118      0.482694   \n",
       "min       30.000000      6.000000      0.000000      9.000000      0.000000   \n",
       "25%     2283.000000    713.000000     11.000000   3637.000000      0.000000   \n",
       "50%     4257.000000   5051.000000     33.000000   7759.000000      0.000000   \n",
       "75%     6798.000000   5920.500000    116.000000  11571.000000      1.000000   \n",
       "max     9491.000000   7253.000000   2525.000000  14366.000000      3.000000   \n",
       "\n",
       "                 os       browser        source         docId        userId  \\\n",
       "count  10000.000000  10000.000000  10000.000000  1.000000e+04  1.000000e+04   \n",
       "mean       0.437100      1.186800   1811.449100  5.073105e+06  1.504000e+06   \n",
       "std        0.650912      2.533919   6425.090463  3.439867e+06  7.162232e+05   \n",
       "min        0.000000      0.000000      0.000000  2.300000e+01  2.320000e+02   \n",
       "25%        0.000000      0.000000     12.000000  5.440758e+05  9.352110e+05   \n",
       "50%        0.000000      0.000000     34.000000  6.526191e+06  1.552722e+06   \n",
       "75%        1.000000      1.000000    160.000000  7.794060e+06  2.112412e+06   \n",
       "max        6.000000     51.000000  39680.000000  9.684055e+06  2.688638e+06   \n",
       "\n",
       "            clicked  \n",
       "count  10000.000000  \n",
       "mean       0.217800  \n",
       "std        0.412771  \n",
       "min        0.000000  \n",
       "25%        0.000000  \n",
       "50%        0.000000  \n",
       "75%        0.000000  \n",
       "max        1.000000  "
      ]
     },
     "execution_count": 7,
     "metadata": {},
     "output_type": "execute_result"
    }
   ],
   "source": [
    "data.describe()"
   ]
  },
  {
   "cell_type": "markdown",
   "metadata": {},
   "source": [
    "ماتریس کوریلیشن بین ویژگی‌ها بدین گونه است:"
   ]
  },
  {
   "cell_type": "code",
   "execution_count": 8,
   "metadata": {},
   "outputs": [
    {
     "data": {
      "text/plain": [
       "<matplotlib.axes._subplots.AxesSubplot at 0x1fe3e9dd9b0>"
      ]
     },
     "execution_count": 8,
     "metadata": {},
     "output_type": "execute_result"
    },
    {
     "data": {
      "image/png": "[encoded data removed]",
      "text/plain": [
       "<Figure size 432x288 with 2 Axes>"
      ]
     },
     "metadata": {
      "needs_background": "light"
     },
     "output_type": "display_data"
    }
   ],
   "source": [
    "sns.heatmap(data.corr())"
   ]
  },
  {
   "cell_type": "markdown",
   "metadata": {},
   "source": [
    "که در آن بین شناسه‌های کاربر، نمایش و زمان رابطه وجود دارد. البته که این رابطه کاذب است و به علت است که شناسه‌ها اعدادی صعودی اند و وا ورود کاربر در زمان‌های بعدی، شناسه‌های بزرگتری برای کاربر و نمایش به کاربر درنظر گرفته می‌شود.  \n",
    "\n",
    "پس این روابط ارزشی در یادگیری ندارند. همچنین بین پلتفرم و سیستم‌عامل هم رابطه وجود دارد که مربوط به حوزه مطلوب ما نیست و دلایل معلوم دیگری دارد. منبع هم رابطه‌ای با منتشر کننده دارد که بنا به رابطه صفحات با سایت میزبان است و در صورتی که بخواهیم سایت‌ها را به تفکیک صفحات بررسی کنیم بدرد می‌خورد."
   ]
  },
  {
   "cell_type": "markdown",
   "metadata": {},
   "source": [
    "ویژگی شناسه کاربر را بررسی می‌کنیم:"
   ]
  },
  {
   "cell_type": "code",
   "execution_count": 9,
   "metadata": {},
   "outputs": [
    {
     "data": {
      "text/plain": [
       "(1.0146103896103895, <matplotlib.axes._subplots.AxesSubplot at 0x1fe3eea97f0>)"
      ]
     },
     "execution_count": 9,
     "metadata": {},
     "output_type": "execute_result"
    },
    {
     "data": {
      "image/png": "[encoded data removed]",
      "text/plain": [
       "<Figure size 432x288 with 1 Axes>"
      ]
     },
     "metadata": {
      "needs_background": "light"
     },
     "output_type": "display_data"
    }
   ],
   "source": [
    "(np.mean(data.userId.value_counts()), sns.boxplot(data.userId.value_counts()))"
   ]
  },
  {
   "cell_type": "markdown",
   "metadata": {},
   "source": [
    "می‌بینیم که از تعداد بسیار زیادی از کاربران داده‌های بسیار کمی دارم یعنی به‌طور کلی نمی‌توانیم .روی هر کابر تحلیل جداگانه بزنیم و احتمال مراجعه به تبلیغ را به طور جداگانه برای او پیدا کنیم. با توجه به رندم بودن این ویژگی، میتوانیم آن را کنار بگذاریم.  \n",
    "\n",
    "حال ویژگی زمانی را بررسی می‌کنیم. تعداد یکتای این ویژگی بسیار بالاست و از نظر منطقی این ویژگی کمکی در یادگیری نمی‌کند. (مانند ویژگی زمان)"
   ]
  },
  {
   "cell_type": "code",
   "execution_count": 10,
   "metadata": {},
   "outputs": [
    {
     "name": "stderr",
     "output_type": "stream",
     "text": [
      "C:\\Users\\Utop\\Anaconda3\\lib\\site-packages\\scipy\\stats\\stats.py:1713: FutureWarning: Using a non-tuple sequence for multidimensional indexing is deprecated; use `arr[tuple(seq)]` instead of `arr[seq]`. In the future this will be interpreted as an array index, `arr[np.array(seq)]`, which will result either in an error or a different result.\n",
      "  return np.add.reduce(sorted[indexer] * weights, axis=axis) / sumval\n"
     ]
    },
    {
     "data": {
      "text/plain": [
       "<matplotlib.axes._subplots.AxesSubplot at 0x1fe3ef21128>"
      ]
     },
     "execution_count": 10,
     "metadata": {},
     "output_type": "execute_result"
    },
    {
     "data": {
      "image/png": "[encoded data removed]",
      "text/plain": [
       "<Figure size 432x288 with 1 Axes>"
      ]
     },
     "metadata": {
      "needs_background": "light"
     },
     "output_type": "display_data"
    }
   ],
   "source": [
    "clicked = data[data.clicked==1]\n",
    "unclicked = data[data.clicked==0]\n",
    "sns.distplot(clicked.timestamp, color='red')\n",
    "sns.distplot(unclicked.timestamp)"
   ]
  },
  {
   "cell_type": "markdown",
   "metadata": {},
   "source": [
    "\n",
    "بنابر این تا اینجا ویژگی‌های زمان، شناسه‌ نمایش ، شناسه کاربر و سیستم‌عامل را کنار میگذاریم و استفاده ار ناشر بسته به انتخاب ما است. حال به سراغ ویژگی‌های زمان هفته و روز می‌رویم. نمودار تبلیغات کلیک شده و نشده برای هر ویژگی را رسم می‌کنیم:"
   ]
  },
  {
   "cell_type": "code",
   "execution_count": 11,
   "metadata": {},
   "outputs": [
    {
     "ename": "AttributeError",
     "evalue": "module 'seaborn' has no attribute 'histplot'",
     "output_type": "error",
     "traceback": [
      "\u001b[1;31m---------------------------------------------------------------------------\u001b[0m",
      "\u001b[1;31mAttributeError\u001b[0m                            Traceback (most recent call last)",
      "\u001b[1;32m<ipython-input-11-2b4ba2f3a1ae>\u001b[0m in \u001b[0;36m<module>\u001b[1;34m()\u001b[0m\n\u001b[0;32m      1\u001b[0m \u001b[0mclicked\u001b[0m \u001b[1;33m=\u001b[0m \u001b[0mdata\u001b[0m\u001b[1;33m[\u001b[0m\u001b[0mdata\u001b[0m\u001b[1;33m.\u001b[0m\u001b[0mclicked\u001b[0m\u001b[1;33m==\u001b[0m\u001b[1;36m1\u001b[0m\u001b[1;33m]\u001b[0m\u001b[1;33m\u001b[0m\u001b[1;33m\u001b[0m\u001b[0m\n\u001b[0;32m      2\u001b[0m \u001b[0munclicked\u001b[0m \u001b[1;33m=\u001b[0m \u001b[0mdata\u001b[0m\u001b[1;33m[\u001b[0m\u001b[0mdata\u001b[0m\u001b[1;33m.\u001b[0m\u001b[0mclicked\u001b[0m\u001b[1;33m==\u001b[0m\u001b[1;36m0\u001b[0m\u001b[1;33m]\u001b[0m\u001b[1;33m\u001b[0m\u001b[1;33m\u001b[0m\u001b[0m\n\u001b[1;32m----> 3\u001b[1;33m \u001b[0msns\u001b[0m\u001b[1;33m.\u001b[0m\u001b[0mhistplot\u001b[0m\u001b[1;33m(\u001b[0m\u001b[0mclicked\u001b[0m\u001b[1;33m.\u001b[0m\u001b[0mhourOfDay\u001b[0m\u001b[1;33m)\u001b[0m\u001b[1;33m\u001b[0m\u001b[1;33m\u001b[0m\u001b[0m\n\u001b[0m\u001b[0;32m      4\u001b[0m \u001b[0msns\u001b[0m\u001b[1;33m.\u001b[0m\u001b[0mhistplot\u001b[0m\u001b[1;33m(\u001b[0m\u001b[0munclicked\u001b[0m\u001b[1;33m.\u001b[0m\u001b[0mhourOfDay\u001b[0m\u001b[1;33m)\u001b[0m\u001b[1;33m\u001b[0m\u001b[1;33m\u001b[0m\u001b[0m\n",
      "\u001b[1;31mAttributeError\u001b[0m: module 'seaborn' has no attribute 'histplot'"
     ]
    }
   ],
   "source": [
    "clicked = data[data.clicked==1]\n",
    "unclicked = data[data.clicked==0]\n",
    "sns.histplot(clicked.hourOfDay)\n",
    "sns.histplot(unclicked.hourOfDay)"
   ]
  },
  {
   "cell_type": "code",
   "execution_count": 12,
   "metadata": {},
   "outputs": [
    {
     "ename": "AttributeError",
     "evalue": "module 'seaborn' has no attribute 'histplot'",
     "output_type": "error",
     "traceback": [
      "\u001b[1;31m---------------------------------------------------------------------------\u001b[0m",
      "\u001b[1;31mAttributeError\u001b[0m                            Traceback (most recent call last)",
      "\u001b[1;32m<ipython-input-12-4d3a3108a101>\u001b[0m in \u001b[0;36m<module>\u001b[1;34m()\u001b[0m\n\u001b[0;32m      1\u001b[0m \u001b[0mclicked\u001b[0m \u001b[1;33m=\u001b[0m \u001b[0mdata\u001b[0m\u001b[1;33m[\u001b[0m\u001b[0mdata\u001b[0m\u001b[1;33m.\u001b[0m\u001b[0mclicked\u001b[0m\u001b[1;33m==\u001b[0m\u001b[1;36m1\u001b[0m\u001b[1;33m]\u001b[0m\u001b[1;33m\u001b[0m\u001b[1;33m\u001b[0m\u001b[0m\n\u001b[0;32m      2\u001b[0m \u001b[0munclicked\u001b[0m \u001b[1;33m=\u001b[0m \u001b[0mdata\u001b[0m\u001b[1;33m[\u001b[0m\u001b[0mdata\u001b[0m\u001b[1;33m.\u001b[0m\u001b[0mclicked\u001b[0m\u001b[1;33m==\u001b[0m\u001b[1;36m0\u001b[0m\u001b[1;33m]\u001b[0m\u001b[1;33m\u001b[0m\u001b[1;33m\u001b[0m\u001b[0m\n\u001b[1;32m----> 3\u001b[1;33m \u001b[0msns\u001b[0m\u001b[1;33m.\u001b[0m\u001b[0mhistplot\u001b[0m\u001b[1;33m(\u001b[0m\u001b[0mclicked\u001b[0m\u001b[1;33m.\u001b[0m\u001b[0mdayOfWeek\u001b[0m\u001b[1;33m)\u001b[0m\u001b[1;33m\u001b[0m\u001b[1;33m\u001b[0m\u001b[0m\n\u001b[0m\u001b[0;32m      4\u001b[0m \u001b[0msns\u001b[0m\u001b[1;33m.\u001b[0m\u001b[0mhistplot\u001b[0m\u001b[1;33m(\u001b[0m\u001b[0munclicked\u001b[0m\u001b[1;33m.\u001b[0m\u001b[0mdayOfWeek\u001b[0m\u001b[1;33m)\u001b[0m\u001b[1;33m\u001b[0m\u001b[1;33m\u001b[0m\u001b[0m\n",
      "\u001b[1;31mAttributeError\u001b[0m: module 'seaborn' has no attribute 'histplot'"
     ]
    }
   ],
   "source": [
    "clicked = data[data.clicked==1]\n",
    "unclicked = data[data.clicked==0]\n",
    "sns.histplot(clicked.dayOfWeek)\n",
    "sns.histplot(unclicked.dayOfWeek)"
   ]
  },
  {
   "cell_type": "markdown",
   "metadata": {},
   "source": [
    "می‌بینیم که نسبت تبلیغات مراجعه شده و نشده در روز‌ها و ساعت مختلف برابر است. یعنی این ویژگی اگر به نتهایی و جدا از دیگر ویژگی‌ها (مانند شناسه کاربر و محتوای تبلیغ) بررسی شود، کمکی نخواهد کرد. اما در روش ‌هایی که تاثیر مقادیر مختلف دو متغیر را در نظر می‌گیرد (مانند ماشین فکتوریزیشن) این ویژگی‌ها ممکن است به‌کار آید. زیرا ممکن است هر فرد در ساعات خاصی یا برای محتوا‌های خاصی بیشتر به تبلیغ‌مراجعه کند. (علایق و زمان‌های کاری افراد متفاوت است.)"
   ]
  },
  {
   "cell_type": "code",
   "execution_count": 13,
   "metadata": {},
   "outputs": [
    {
     "data": {
      "text/html": [
       "<div>\n",
       "<style scoped>\n",
       "    .dataframe tbody tr th:only-of-type {\n",
       "        vertical-align: middle;\n",
       "    }\n",
       "\n",
       "    .dataframe tbody tr th {\n",
       "        vertical-align: top;\n",
       "    }\n",
       "\n",
       "    .dataframe thead th {\n",
       "        text-align: right;\n",
       "    }\n",
       "</style>\n",
       "<table border=\"1\" class=\"dataframe\">\n",
       "  <thead>\n",
       "    <tr style=\"text-align: right;\">\n",
       "      <th></th>\n",
       "      <th>displayId</th>\n",
       "      <th>timestamp</th>\n",
       "      <th>dayOfWeek</th>\n",
       "      <th>hourOfDay</th>\n",
       "      <th>advertiserId</th>\n",
       "      <th>campaignId</th>\n",
       "      <th>creativeId</th>\n",
       "      <th>publisher</th>\n",
       "      <th>widgetId</th>\n",
       "      <th>device</th>\n",
       "      <th>os</th>\n",
       "      <th>browser</th>\n",
       "      <th>source</th>\n",
       "      <th>docId</th>\n",
       "      <th>userId</th>\n",
       "      <th>clicked</th>\n",
       "    </tr>\n",
       "  </thead>\n",
       "  <tbody>\n",
       "    <tr>\n",
       "      <th>count</th>\n",
       "      <td>1.000000e+04</td>\n",
       "      <td>1.000000e+04</td>\n",
       "      <td>10000.000000</td>\n",
       "      <td>10000.000000</td>\n",
       "      <td>10000.000000</td>\n",
       "      <td>10000.000000</td>\n",
       "      <td>10000.000000</td>\n",
       "      <td>10000.000000</td>\n",
       "      <td>10000.000000</td>\n",
       "      <td>10000.000000</td>\n",
       "      <td>10000.000000</td>\n",
       "      <td>10000.000000</td>\n",
       "      <td>10000.000000</td>\n",
       "      <td>1.000000e+04</td>\n",
       "      <td>1.000000e+04</td>\n",
       "      <td>10000.000000</td>\n",
       "    </tr>\n",
       "    <tr>\n",
       "      <th>mean</th>\n",
       "      <td>3.046091e+06</td>\n",
       "      <td>1.579004e+12</td>\n",
       "      <td>2.857100</td>\n",
       "      <td>11.257500</td>\n",
       "      <td>4765.921500</td>\n",
       "      <td>4552.734800</td>\n",
       "      <td>3895.595300</td>\n",
       "      <td>246.011700</td>\n",
       "      <td>7492.494600</td>\n",
       "      <td>0.343700</td>\n",
       "      <td>0.437100</td>\n",
       "      <td>1.186800</td>\n",
       "      <td>1811.449100</td>\n",
       "      <td>5.073105e+06</td>\n",
       "      <td>1.504000e+06</td>\n",
       "      <td>0.217800</td>\n",
       "    </tr>\n",
       "    <tr>\n",
       "      <th>std</th>\n",
       "      <td>1.020660e+06</td>\n",
       "      <td>3.575235e+08</td>\n",
       "      <td>1.925941</td>\n",
       "      <td>5.653476</td>\n",
       "      <td>2915.736633</td>\n",
       "      <td>2641.487122</td>\n",
       "      <td>2488.282684</td>\n",
       "      <td>513.661649</td>\n",
       "      <td>4329.381118</td>\n",
       "      <td>0.482694</td>\n",
       "      <td>0.650912</td>\n",
       "      <td>2.533919</td>\n",
       "      <td>6425.090463</td>\n",
       "      <td>3.439867e+06</td>\n",
       "      <td>7.162232e+05</td>\n",
       "      <td>0.412771</td>\n",
       "    </tr>\n",
       "    <tr>\n",
       "      <th>min</th>\n",
       "      <td>1.204383e+06</td>\n",
       "      <td>1.578429e+12</td>\n",
       "      <td>0.000000</td>\n",
       "      <td>0.000000</td>\n",
       "      <td>1.000000</td>\n",
       "      <td>30.000000</td>\n",
       "      <td>6.000000</td>\n",
       "      <td>0.000000</td>\n",
       "      <td>9.000000</td>\n",
       "      <td>0.000000</td>\n",
       "      <td>0.000000</td>\n",
       "      <td>0.000000</td>\n",
       "      <td>0.000000</td>\n",
       "      <td>2.300000e+01</td>\n",
       "      <td>2.320000e+02</td>\n",
       "      <td>0.000000</td>\n",
       "    </tr>\n",
       "    <tr>\n",
       "      <th>25%</th>\n",
       "      <td>2.179794e+06</td>\n",
       "      <td>1.578713e+12</td>\n",
       "      <td>1.000000</td>\n",
       "      <td>7.000000</td>\n",
       "      <td>2167.000000</td>\n",
       "      <td>2283.000000</td>\n",
       "      <td>713.000000</td>\n",
       "      <td>11.000000</td>\n",
       "      <td>3637.000000</td>\n",
       "      <td>0.000000</td>\n",
       "      <td>0.000000</td>\n",
       "      <td>0.000000</td>\n",
       "      <td>12.000000</td>\n",
       "      <td>5.440758e+05</td>\n",
       "      <td>9.352110e+05</td>\n",
       "      <td>0.000000</td>\n",
       "    </tr>\n",
       "    <tr>\n",
       "      <th>50%</th>\n",
       "      <td>3.115414e+06</td>\n",
       "      <td>1.578972e+12</td>\n",
       "      <td>3.000000</td>\n",
       "      <td>10.000000</td>\n",
       "      <td>4439.000000</td>\n",
       "      <td>4257.000000</td>\n",
       "      <td>5051.000000</td>\n",
       "      <td>33.000000</td>\n",
       "      <td>7759.000000</td>\n",
       "      <td>0.000000</td>\n",
       "      <td>0.000000</td>\n",
       "      <td>0.000000</td>\n",
       "      <td>34.000000</td>\n",
       "      <td>6.526191e+06</td>\n",
       "      <td>1.552722e+06</td>\n",
       "      <td>0.000000</td>\n",
       "    </tr>\n",
       "    <tr>\n",
       "      <th>75%</th>\n",
       "      <td>3.902539e+06</td>\n",
       "      <td>1.579329e+12</td>\n",
       "      <td>4.000000</td>\n",
       "      <td>16.000000</td>\n",
       "      <td>6973.000000</td>\n",
       "      <td>6798.000000</td>\n",
       "      <td>5920.500000</td>\n",
       "      <td>116.000000</td>\n",
       "      <td>11571.000000</td>\n",
       "      <td>1.000000</td>\n",
       "      <td>1.000000</td>\n",
       "      <td>1.000000</td>\n",
       "      <td>160.000000</td>\n",
       "      <td>7.794060e+06</td>\n",
       "      <td>2.112412e+06</td>\n",
       "      <td>0.000000</td>\n",
       "    </tr>\n",
       "    <tr>\n",
       "      <th>max</th>\n",
       "      <td>4.706260e+06</td>\n",
       "      <td>1.579638e+12</td>\n",
       "      <td>6.000000</td>\n",
       "      <td>23.000000</td>\n",
       "      <td>10556.000000</td>\n",
       "      <td>9491.000000</td>\n",
       "      <td>7253.000000</td>\n",
       "      <td>2525.000000</td>\n",
       "      <td>14366.000000</td>\n",
       "      <td>3.000000</td>\n",
       "      <td>6.000000</td>\n",
       "      <td>51.000000</td>\n",
       "      <td>39680.000000</td>\n",
       "      <td>9.684055e+06</td>\n",
       "      <td>2.688638e+06</td>\n",
       "      <td>1.000000</td>\n",
       "    </tr>\n",
       "  </tbody>\n",
       "</table>\n",
       "</div>"
      ],
      "text/plain": [
       "          displayId     timestamp     dayOfWeek     hourOfDay  advertiserId  \\\n",
       "count  1.000000e+04  1.000000e+04  10000.000000  10000.000000  10000.000000   \n",
       "mean   3.046091e+06  1.579004e+12      2.857100     11.257500   4765.921500   \n",
       "std    1.020660e+06  3.575235e+08      1.925941      5.653476   2915.736633   \n",
       "min    1.204383e+06  1.578429e+12      0.000000      0.000000      1.000000   \n",
       "25%    2.179794e+06  1.578713e+12      1.000000      7.000000   2167.000000   \n",
       "50%    3.115414e+06  1.578972e+12      3.000000     10.000000   4439.000000   \n",
       "75%    3.902539e+06  1.579329e+12      4.000000     16.000000   6973.000000   \n",
       "max    4.706260e+06  1.579638e+12      6.000000     23.000000  10556.000000   \n",
       "\n",
       "         campaignId    creativeId     publisher      widgetId        device  \\\n",
       "count  10000.000000  10000.000000  10000.000000  10000.000000  10000.000000   \n",
       "mean    4552.734800   3895.595300    246.011700   7492.494600      0.343700   \n",
       "std     2641.487122   2488.282684    513.661649   4329.381118      0.482694   \n",
       "min       30.000000      6.000000      0.000000      9.000000      0.000000   \n",
       "25%     2283.000000    713.000000     11.000000   3637.000000      0.000000   \n",
       "50%     4257.000000   5051.000000     33.000000   7759.000000      0.000000   \n",
       "75%     6798.000000   5920.500000    116.000000  11571.000000      1.000000   \n",
       "max     9491.000000   7253.000000   2525.000000  14366.000000      3.000000   \n",
       "\n",
       "                 os       browser        source         docId        userId  \\\n",
       "count  10000.000000  10000.000000  10000.000000  1.000000e+04  1.000000e+04   \n",
       "mean       0.437100      1.186800   1811.449100  5.073105e+06  1.504000e+06   \n",
       "std        0.650912      2.533919   6425.090463  3.439867e+06  7.162232e+05   \n",
       "min        0.000000      0.000000      0.000000  2.300000e+01  2.320000e+02   \n",
       "25%        0.000000      0.000000     12.000000  5.440758e+05  9.352110e+05   \n",
       "50%        0.000000      0.000000     34.000000  6.526191e+06  1.552722e+06   \n",
       "75%        1.000000      1.000000    160.000000  7.794060e+06  2.112412e+06   \n",
       "max        6.000000     51.000000  39680.000000  9.684055e+06  2.688638e+06   \n",
       "\n",
       "            clicked  \n",
       "count  10000.000000  \n",
       "mean       0.217800  \n",
       "std        0.412771  \n",
       "min        0.000000  \n",
       "25%        0.000000  \n",
       "50%        0.000000  \n",
       "75%        0.000000  \n",
       "max        1.000000  "
      ]
     },
     "execution_count": 13,
     "metadata": {},
     "output_type": "execute_result"
    }
   ],
   "source": [
    "data.describe()"
   ]
  },
  {
   "cell_type": "code",
   "execution_count": 15,
   "metadata": {
    "pycharm": {
     "name": "#%%\n"
    }
   },
   "outputs": [],
   "source": [
    "y = data[\"clicked\"]\n",
    "x = data.drop(data.columns[[0, 1, 7, 8, 11, 14, 15]] , axis=1)\n",
    "x_test = x.iloc[0:int(0.2*len(x))]\n",
    "x_train = x[int(0.2*len(x)):]\n",
    "y_train = y[int(0.2*len(y)):]\n",
    "y_test = y.iloc[0:int(0.2*len(y))]"
   ]
  },
  {
   "cell_type": "markdown",
   "metadata": {},
   "source": [
    "svm:"
   ]
  },
  {
   "cell_type": "code",
   "execution_count": 16,
   "metadata": {
    "pycharm": {
     "name": "#%%\n"
    }
   },
   "outputs": [
    {
     "name": "stdout",
     "output_type": "stream",
     "text": [
      "AUC : 0.5014\n",
      "Cross-entropy loss : 7.3222 \n",
      "F1 score : 0.7880\n"
     ]
    }
   ],
   "source": [
    "from sklearn import svm\n",
    "from sklearn import metrics\n",
    "clsf = svm.SVC(C=4)\n",
    "clsf.fit(x_train, y_train)\n",
    "y_pred = clsf.predict(x_test)\n",
    "print(\"AUC : %.4f\" %metrics.roc_auc_score(y_test, y_pred))\n",
    "print(\"Cross-entropy loss : %.4f \" %metrics.log_loss(y_test,y_pred))\n",
    "print(\"F1 score : %.4f\" %metrics.f1_score(y_test,y_pred,average=\"micro\"))"
   ]
  },
  {
   "cell_type": "markdown",
   "metadata": {},
   "source": [
    "boosting:\n",
    "بوستینگ یک فرا الگوریتم ترکیبی در حوزه یادگیری ماشین است که برای کاهش عدم توازن و همچنین واریانس به کار می‌رود. این روش در یادگیری با نظارت مورد استفاده قرار گرفته و از خانواده الگوریتم‌های یادگیری ماشین به شمار می‌رود. این تکنیک، روشی برای تبدیل سیستمهای یادگیری ضعیف به قوی بر اساس ترکیب نتایج طبقه بندهای مختلف است. ایده اولیه این روش بر اساس سؤال مطرح شده توسط کیرنس و شجاع (۱۹۸۸، ۱۹۸۹) به وجود آمده است: آیا می‌توان با ترکیب مجموعه‌ای از سیستم‌های یادگیری ضعیف یک سیستم یادگیری قوی ایجاد نمود؟\n",
    "\n",
    "سیستم یادگیری ضعیف، یادگیرنده‌ای است که به عنوان یک طبقه بند، تنها کمی بهتر از حالت تصادفی عمل می‌نماید (برچسب نمونه‌ها را بهتر از تصادفی حدس می‌زند). در مقابل یادگیرنده قوی طبقه‌بندی است که به تنهایی می‌تواند برچسب نمونه‌ها را خوبی پیش بینی نماید."
   ]
  },
  {
   "cell_type": "code",
   "execution_count": 18,
   "metadata": {},
   "outputs": [
    {
     "name": "stderr",
     "output_type": "stream",
     "text": [
      "C:\\Users\\Utop\\Anaconda3\\lib\\site-packages\\xgboost\\sklearn.py:888: UserWarning: The use of label encoder in XGBClassifier is deprecated and will be removed in a future release. To remove this warning, do the following: 1) Pass option use_label_encoder=False when constructing XGBClassifier object; and 2) Encode your labels (y) as integers starting with 0, i.e. 0, 1, 2, ..., [num_class - 1].\n",
      "  warnings.warn(label_encoder_deprecation_msg, UserWarning)\n"
     ]
    },
    {
     "name": "stdout",
     "output_type": "stream",
     "text": [
      "[18:58:57] WARNING: C:/Users/Administrator/workspace/xgboost-win64_release_1.3.0/src/learner.cc:1061: Starting in XGBoost 1.3.0, the default evaluation metric used with the objective 'binary:logistic' was changed from 'error' to 'logloss'. Explicitly set eval_metric if you'd like to restore the old behavior.\n",
      "AUC : 0.5109\n",
      "Cross-entropy loss : 7.8403 \n",
      "F1 score : 0.7730\n"
     ]
    },
    {
     "name": "stderr",
     "output_type": "stream",
     "text": [
      "C:\\Users\\Utop\\Anaconda3\\lib\\site-packages\\sklearn\\preprocessing\\label.py:151: DeprecationWarning: The truth value of an empty array is ambiguous. Returning False, but in future this will result in an error. Use `array.size > 0` to check that an array is not empty.\n",
      "  if diff:\n"
     ]
    }
   ],
   "source": [
    "import xgboost as xgb\n",
    "from sklearn.metrics import mean_squared_error\n",
    "# Classification\n",
    "clf_boosting = xgb.XGBClassifier(n_estimators=100, reg_lambda=1,reg_alpha=1, gamma=0, max_depth=None)\n",
    "# n_estimator is num of gradient boosted trees # reg_alpha and reg_lmbda are regularization term # gamma is Minimum loss\n",
    "clf_boosting.fit(x_train,y_train)\n",
    "# Prediction\n",
    "y_pred = clf_boosting.predict(x_test)\n",
    "print(\"AUC : %.4f\" %metrics.roc_auc_score(y_test, y_pred))\n",
    "print(\"Cross-entropy loss : %.4f \" %metrics.log_loss(y_test,y_pred))\n",
    "print(\"F1 score : %.4f\" %metrics.f1_score(y_test,y_pred,average=\"micro\"))"
   ]
  },
  {
   "cell_type": "markdown",
   "metadata": {},
   "source": [
    "random:"
   ]
  },
  {
   "cell_type": "code",
   "execution_count": 19,
   "metadata": {},
   "outputs": [
    {
     "name": "stderr",
     "output_type": "stream",
     "text": [
      "C:\\Users\\Utop\\Anaconda3\\lib\\site-packages\\sklearn\\ensemble\\weight_boosting.py:29: DeprecationWarning: numpy.core.umath_tests is an internal NumPy module and should not be imported. It will be removed in a future NumPy release.\n",
      "  from numpy.core.umath_tests import inner1d\n"
     ]
    },
    {
     "name": "stdout",
     "output_type": "stream",
     "text": [
      "AUC : 0.5037\n",
      "Cross-entropy loss : 7.5295 \n",
      "F1 score : 0.7820\n"
     ]
    }
   ],
   "source": [
    "from sklearn.ensemble import RandomForestClassifier\n",
    "clf = RandomForestClassifier(n_estimators=1000,max_depth=3000)\n",
    "clf.fit(x_train,y_train)\n",
    "y_pred = clf.predict(x_test)\n",
    "print(\"AUC : %.4f\" %metrics.roc_auc_score(y_test, y_pred))\n",
    "print(\"Cross-entropy loss : %.4f \" %metrics.log_loss(y_test,y_pred))\n",
    "print(\"F1 score : %.4f\" %metrics.f1_score(y_test,y_pred,average=\"micro\"))"
   ]
  },
  {
   "cell_type": "markdown",
   "metadata": {},
   "source": [
    "logestic:"
   ]
  },
  {
   "cell_type": "code",
   "execution_count": 20,
   "metadata": {},
   "outputs": [
    {
     "name": "stdout",
     "output_type": "stream",
     "text": [
      "AUC : 0.5000\n",
      "Cross-entropy loss : 7.3050 \n",
      "F1 score : 0.7885\n"
     ]
    },
    {
     "name": "stderr",
     "output_type": "stream",
     "text": [
      "C:\\Users\\Utop\\Anaconda3\\lib\\site-packages\\sklearn\\linear_model\\sag.py:326: ConvergenceWarning: The max_iter was reached which means the coef_ did not converge\n",
      "  \"the coef_ did not converge\", ConvergenceWarning)\n"
     ]
    }
   ],
   "source": [
    "from sklearn.linear_model import LogisticRegression\n",
    "clf = LogisticRegression(random_state=0,solver=\"saga\",multi_class=\"ovr\",max_iter=1000)\n",
    "clf.fit(x_train,y_train)\n",
    "y_pred = clf.predict(x_test)\n",
    "print(\"AUC : %.4f\" %metrics.roc_auc_score(y_test, y_pred))\n",
    "print(\"Cross-entropy loss : %.4f \" %metrics.log_loss(y_test,y_pred))\n",
    "print(\"F1 score : %.4f\" %metrics.f1_score(y_test,y_pred,average=\"micro\"))"
   ]
  }
 ],
 "metadata": {
  "kernelspec": {
   "display_name": "Python 3",
   "language": "python",
   "name": "python3"
  },
  "language_info": {
   "codemirror_mode": {
    "name": "ipython",
    "version": 3
   },
   "file_extension": ".py",
   "mimetype": "text/x-python",
   "name": "python",
   "nbconvert_exporter": "python",
   "pygments_lexer": "ipython3",
   "version": "3.7.3"
  }
 },
 "nbformat": 4,
 "nbformat_minor": 2
}
