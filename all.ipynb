{
 "cells": [
  {
   "cell_type": "markdown",
   "metadata": {},
   "source": [
    "eda:\n",
    "در این مرحله با نگاهی کلی به دیتاست، وضعیت ویژگی‌ها و اهمیت و تاثیر آنها در یادگیری را بررسی می‌کنیم.\n"
   ]
  },
  {
   "cell_type": "code",
   "execution_count": 1,
   "metadata": {},
   "outputs": [],
   "source": [
    "import seaborn as sns\n",
    "import pandas as ps\n",
    "import numpy as np\n",
    "\n",
    "\n",
    "data = ps.read_csv(\"train_data.csv\")"
   ]
  },
  {
   "cell_type": "code",
   "execution_count": 2,
   "metadata": {},
   "outputs": [
    {
     "data": {
      "text/plain": "          displayId     timestamp  dayOfWeek  hourOfDay  advertiserId  \\\ncount  1.499000e+03  1.499000e+03     1499.0     1499.0   1499.000000   \nmean   4.705156e+06  1.578430e+12        4.0        0.0   4297.502335   \nstd    5.028895e+03  4.086461e+05        0.0        0.0   2891.256929   \nmin    4.608522e+06  1.578429e+12        4.0        0.0    202.000000   \n25%    4.705047e+06  1.578429e+12        4.0        0.0   1386.000000   \n50%    4.705400e+06  1.578430e+12        4.0        0.0   4187.000000   \n75%    4.705825e+06  1.578430e+12        4.0        0.0   6883.000000   \nmax    4.706267e+06  1.578430e+12        4.0        0.0  10081.000000   \n\n        campaignId   creativeId    publisher      widgetId       device  \\\ncount  1499.000000  1499.000000  1499.000000   1499.000000  1499.000000   \nmean   4262.453636  3305.623749   160.841227   7984.653102     0.190127   \nstd    2509.592221  2004.342260   338.769903   3946.856007     0.392532   \nmin     286.000000     6.000000     0.000000    244.000000     0.000000   \n25%    1587.000000  1819.000000    18.000000   6092.000000     0.000000   \n50%    4198.000000  3914.000000    31.000000   7759.000000     0.000000   \n75%    6471.000000  5179.000000    80.000000  10975.000000     0.000000   \nmax    9423.000000  5434.000000  1529.000000  14284.000000     1.000000   \n\n                os      browser        source         docId        userId  \\\ncount  1499.000000  1499.000000   1499.000000  1.499000e+03  1.499000e+03   \nmean      0.374249     1.414276    625.858572  4.596871e+06  2.250510e+06   \nstd       0.675257     2.822726   1963.385449  2.516371e+06  8.081675e+05   \nmin       0.000000     0.000000      0.000000  1.390000e+02  3.256000e+03   \n25%       0.000000     0.000000     19.000000  3.715727e+06  2.236982e+06   \n50%       0.000000     0.000000     32.000000  6.161066e+06  2.687991e+06   \n75%       1.000000     1.000000     85.000000  6.244430e+06  2.688306e+06   \nmax       3.000000    26.000000  12396.000000  6.247342e+06  2.688642e+06   \n\n           clicked  \ncount  1499.000000  \nmean      0.247498  \nstd       0.431703  \nmin       0.000000  \n25%       0.000000  \n50%       0.000000  \n75%       0.000000  \nmax       1.000000  ",
      "text/html": "<div>\n<style scoped>\n    .dataframe tbody tr th:only-of-type {\n        vertical-align: middle;\n    }\n\n    .dataframe tbody tr th {\n        vertical-align: top;\n    }\n\n    .dataframe thead th {\n        text-align: right;\n    }\n</style>\n<table border=\"1\" class=\"dataframe\">\n  <thead>\n    <tr style=\"text-align: right;\">\n      <th></th>\n      <th>displayId</th>\n      <th>timestamp</th>\n      <th>dayOfWeek</th>\n      <th>hourOfDay</th>\n      <th>advertiserId</th>\n      <th>campaignId</th>\n      <th>creativeId</th>\n      <th>publisher</th>\n      <th>widgetId</th>\n      <th>device</th>\n      <th>os</th>\n      <th>browser</th>\n      <th>source</th>\n      <th>docId</th>\n      <th>userId</th>\n      <th>clicked</th>\n    </tr>\n  </thead>\n  <tbody>\n    <tr>\n      <th>count</th>\n      <td>1.499000e+03</td>\n      <td>1.499000e+03</td>\n      <td>1499.0</td>\n      <td>1499.0</td>\n      <td>1499.000000</td>\n      <td>1499.000000</td>\n      <td>1499.000000</td>\n      <td>1499.000000</td>\n      <td>1499.000000</td>\n      <td>1499.000000</td>\n      <td>1499.000000</td>\n      <td>1499.000000</td>\n      <td>1499.000000</td>\n      <td>1.499000e+03</td>\n      <td>1.499000e+03</td>\n      <td>1499.000000</td>\n    </tr>\n    <tr>\n      <th>mean</th>\n      <td>4.705156e+06</td>\n      <td>1.578430e+12</td>\n      <td>4.0</td>\n      <td>0.0</td>\n      <td>4297.502335</td>\n      <td>4262.453636</td>\n      <td>3305.623749</td>\n      <td>160.841227</td>\n      <td>7984.653102</td>\n      <td>0.190127</td>\n      <td>0.374249</td>\n      <td>1.414276</td>\n      <td>625.858572</td>\n      <td>4.596871e+06</td>\n      <td>2.250510e+06</td>\n      <td>0.247498</td>\n    </tr>\n    <tr>\n      <th>std</th>\n      <td>5.028895e+03</td>\n      <td>4.086461e+05</td>\n      <td>0.0</td>\n      <td>0.0</td>\n      <td>2891.256929</td>\n      <td>2509.592221</td>\n      <td>2004.342260</td>\n      <td>338.769903</td>\n      <td>3946.856007</td>\n      <td>0.392532</td>\n      <td>0.675257</td>\n      <td>2.822726</td>\n      <td>1963.385449</td>\n      <td>2.516371e+06</td>\n      <td>8.081675e+05</td>\n      <td>0.431703</td>\n    </tr>\n    <tr>\n      <th>min</th>\n      <td>4.608522e+06</td>\n      <td>1.578429e+12</td>\n      <td>4.0</td>\n      <td>0.0</td>\n      <td>202.000000</td>\n      <td>286.000000</td>\n      <td>6.000000</td>\n      <td>0.000000</td>\n      <td>244.000000</td>\n      <td>0.000000</td>\n      <td>0.000000</td>\n      <td>0.000000</td>\n      <td>0.000000</td>\n      <td>1.390000e+02</td>\n      <td>3.256000e+03</td>\n      <td>0.000000</td>\n    </tr>\n    <tr>\n      <th>25%</th>\n      <td>4.705047e+06</td>\n      <td>1.578429e+12</td>\n      <td>4.0</td>\n      <td>0.0</td>\n      <td>1386.000000</td>\n      <td>1587.000000</td>\n      <td>1819.000000</td>\n      <td>18.000000</td>\n      <td>6092.000000</td>\n      <td>0.000000</td>\n      <td>0.000000</td>\n      <td>0.000000</td>\n      <td>19.000000</td>\n      <td>3.715727e+06</td>\n      <td>2.236982e+06</td>\n      <td>0.000000</td>\n    </tr>\n    <tr>\n      <th>50%</th>\n      <td>4.705400e+06</td>\n      <td>1.578430e+12</td>\n      <td>4.0</td>\n      <td>0.0</td>\n      <td>4187.000000</td>\n      <td>4198.000000</td>\n      <td>3914.000000</td>\n      <td>31.000000</td>\n      <td>7759.000000</td>\n      <td>0.000000</td>\n      <td>0.000000</td>\n      <td>0.000000</td>\n      <td>32.000000</td>\n      <td>6.161066e+06</td>\n      <td>2.687991e+06</td>\n      <td>0.000000</td>\n    </tr>\n    <tr>\n      <th>75%</th>\n      <td>4.705825e+06</td>\n      <td>1.578430e+12</td>\n      <td>4.0</td>\n      <td>0.0</td>\n      <td>6883.000000</td>\n      <td>6471.000000</td>\n      <td>5179.000000</td>\n      <td>80.000000</td>\n      <td>10975.000000</td>\n      <td>0.000000</td>\n      <td>1.000000</td>\n      <td>1.000000</td>\n      <td>85.000000</td>\n      <td>6.244430e+06</td>\n      <td>2.688306e+06</td>\n      <td>0.000000</td>\n    </tr>\n    <tr>\n      <th>max</th>\n      <td>4.706267e+06</td>\n      <td>1.578430e+12</td>\n      <td>4.0</td>\n      <td>0.0</td>\n      <td>10081.000000</td>\n      <td>9423.000000</td>\n      <td>5434.000000</td>\n      <td>1529.000000</td>\n      <td>14284.000000</td>\n      <td>1.000000</td>\n      <td>3.000000</td>\n      <td>26.000000</td>\n      <td>12396.000000</td>\n      <td>6.247342e+06</td>\n      <td>2.688642e+06</td>\n      <td>1.000000</td>\n    </tr>\n  </tbody>\n</table>\n</div>"
     },
     "execution_count": 2,
     "metadata": {},
     "output_type": "execute_result"
    }
   ],
   "source": [
    "data.describe()"
   ]
  },
  {
   "cell_type": "markdown",
   "metadata": {},
   "source": [
    "ماتریس کوریلیشن بین ویژگی‌ها بدین گونه است:"
   ]
  },
  {
   "cell_type": "code",
   "execution_count": 3,
   "metadata": {},
   "outputs": [
    {
     "data": {
      "text/plain": "<matplotlib.axes._subplots.AxesSubplot at 0x7febd70f47f0>"
     },
     "execution_count": 3,
     "metadata": {},
     "output_type": "execute_result"
    },
    {
     "data": {
      "text/plain": "<Figure size 432x288 with 2 Axes>",
      "image/png": "[encoded data removed]"
     },
     "metadata": {
      "needs_background": "light"
     },
     "output_type": "display_data"
    }
   ],
   "source": [
    "sns.heatmap(data.corr())"
   ]
  },
  {
   "cell_type": "markdown",
   "metadata": {},
   "source": [
    "که در آن بین شناسه‌های کاربر، نمایش و زمان رابطه وجود دارد. البته که این رابطه کاذب است و به علت است که شناسه‌ها اعدادی صعودی اند و وا ورود کاربر در زمان‌های بعدی، شناسه‌های بزرگتری برای کاربر و نمایش به کاربر درنظر گرفته می‌شود.  \n",
    "\n",
    "پس این روابط ارزشی در یادگیری ندارند. همچنین بین پلتفرم و سیستم‌عامل هم رابطه وجود دارد که مربوط به حوزه مطلوب ما نیست و دلایل معلوم دیگری دارد. منبع هم رابطه‌ای با منتشر کننده دارد که بنا به رابطه صفحات با سایت میزبان است و در صورتی که بخواهیم سایت‌ها را به تفکیک صفحات بررسی کنیم بدرد می‌خورد."
   ]
  },
  {
   "cell_type": "markdown",
   "metadata": {},
   "source": [
    "ویژگی شناسه کاربر را بررسی می‌کنیم:"
   ]
  },
  {
   "cell_type": "code",
   "execution_count": 4,
   "metadata": {},
   "outputs": [
    {
     "name": "stderr",
     "output_type": "stream",
     "text": [
      "/home/mohammad/.local/lib/python3.8/site-packages/seaborn/_decorators.py:36: FutureWarning: Pass the following variable as a keyword arg: x. From version 0.12, the only valid positional argument will be `data`, and passing other arguments without an explicit keyword will result in an error or misinterpretation.\n",
      "  warnings.warn(\n"
     ]
    },
    {
     "data": {
      "text/plain": "(4.29512893982808, <matplotlib.axes._subplots.AxesSubplot at 0x7febcefc5d00>)"
     },
     "execution_count": 4,
     "metadata": {},
     "output_type": "execute_result"
    },
    {
     "data": {
      "text/plain": "<Figure size 432x288 with 1 Axes>",
      "image/png": "[encoded data removed]"
     },
     "metadata": {
      "needs_background": "light"
     },
     "output_type": "display_data"
    }
   ],
   "source": [
    "(np.mean(data.userId.value_counts()), sns.boxplot(data.userId.value_counts()))"
   ]
  },
  {
   "cell_type": "markdown",
   "metadata": {},
   "source": [
    "می‌بینیم که از تعداد بسیار زیادی از کاربران داده‌های بسیار کمی دارم یعنی به‌طور کلی نمی‌توانیم .روی هر کابر تحلیل جداگانه بزنیم و احتمال مراجعه به تبلیغ را به طور جداگانه برای او پیدا کنیم. با توجه به رندم بودن این ویژگی، میتوانیم آن را کنار بگذاریم.  \n",
    "\n",
    "حال ویژگی زمانی را بررسی می‌کنیم. تعداد یکتای این ویژگی بسیار بالاست و از نظر منطقی این ویژگی کمکی در یادگیری نمی‌کند. (مانند ویژگی زمان)"
   ]
  },
  {
   "cell_type": "code",
   "execution_count": 5,
   "metadata": {},
   "outputs": [
    {
     "name": "stderr",
     "output_type": "stream",
     "text": [
      "/home/mohammad/.local/lib/python3.8/site-packages/seaborn/distributions.py:2557: FutureWarning: `distplot` is a deprecated function and will be removed in a future version. Please adapt your code to use either `displot` (a figure-level function with similar flexibility) or `histplot` (an axes-level function for histograms).\n",
      "  warnings.warn(msg, FutureWarning)\n",
      "/usr/lib/python3/dist-packages/matplotlib/cbook/__init__.py:1402: FutureWarning: Support for multi-dimensional indexing (e.g. `obj[:, None]`) is deprecated and will be removed in a future version.  Convert to a numpy array before indexing instead.\n",
      "  ndim = x[:, None].ndim\n",
      "/usr/lib/python3/dist-packages/matplotlib/axes/_base.py:276: FutureWarning: Support for multi-dimensional indexing (e.g. `obj[:, None]`) is deprecated and will be removed in a future version.  Convert to a numpy array before indexing instead.\n",
      "  x = x[:, np.newaxis]\n",
      "/usr/lib/python3/dist-packages/matplotlib/axes/_base.py:278: FutureWarning: Support for multi-dimensional indexing (e.g. `obj[:, None]`) is deprecated and will be removed in a future version.  Convert to a numpy array before indexing instead.\n",
      "  y = y[:, np.newaxis]\n",
      "/home/mohammad/.local/lib/python3.8/site-packages/seaborn/distributions.py:2557: FutureWarning: `distplot` is a deprecated function and will be removed in a future version. Please adapt your code to use either `displot` (a figure-level function with similar flexibility) or `histplot` (an axes-level function for histograms).\n",
      "  warnings.warn(msg, FutureWarning)\n",
      "/usr/lib/python3/dist-packages/matplotlib/cbook/__init__.py:1402: FutureWarning: Support for multi-dimensional indexing (e.g. `obj[:, None]`) is deprecated and will be removed in a future version.  Convert to a numpy array before indexing instead.\n",
      "  ndim = x[:, None].ndim\n",
      "/usr/lib/python3/dist-packages/matplotlib/axes/_base.py:276: FutureWarning: Support for multi-dimensional indexing (e.g. `obj[:, None]`) is deprecated and will be removed in a future version.  Convert to a numpy array before indexing instead.\n",
      "  x = x[:, np.newaxis]\n",
      "/usr/lib/python3/dist-packages/matplotlib/axes/_base.py:278: FutureWarning: Support for multi-dimensional indexing (e.g. `obj[:, None]`) is deprecated and will be removed in a future version.  Convert to a numpy array before indexing instead.\n",
      "  y = y[:, np.newaxis]\n"
     ]
    },
    {
     "data": {
      "text/plain": "<matplotlib.axes._subplots.AxesSubplot at 0x7febcef34d90>"
     },
     "execution_count": 5,
     "metadata": {},
     "output_type": "execute_result"
    },
    {
     "data": {
      "text/plain": "<Figure size 432x288 with 1 Axes>",
      "image/png": "[encoded data removed]"
     },
     "metadata": {
      "needs_background": "light"
     },
     "output_type": "display_data"
    }
   ],
   "source": [
    "clicked = data[data.clicked==1]\n",
    "unclicked = data[data.clicked==0]\n",
    "sns.distplot(clicked.timestamp, color='red')\n",
    "sns.distplot(unclicked.timestamp)"
   ]
  },
  {
   "cell_type": "markdown",
   "metadata": {},
   "source": [
    "\n",
    "بنابر این تا اینجا ویژگی‌های زمان، شناسه‌ نمایش ، شناسه کاربر و سیستم‌عامل را کنار میگذاریم و استفاده ار ناشر بسته به انتخاب ما است. حال به سراغ ویژگی‌های زمان هفته و روز می‌رویم. نمودار تبلیغات کلیک شده و نشده برای هر ویژگی را رسم می‌کنیم:"
   ]
  },
  {
   "cell_type": "code",
   "execution_count": 6,
   "metadata": {},
   "outputs": [
    {
     "data": {
      "text/plain": "<matplotlib.axes._subplots.AxesSubplot at 0x7febccdaf490>"
     },
     "execution_count": 6,
     "metadata": {},
     "output_type": "execute_result"
    },
    {
     "data": {
      "text/plain": "<Figure size 432x288 with 1 Axes>",
      "image/png": "[encoded data removed]"
     },
     "metadata": {
      "needs_background": "light"
     },
     "output_type": "display_data"
    }
   ],
   "source": [
    "clicked = data[data.clicked==1]\n",
    "unclicked = data[data.clicked==0]\n",
    "sns.histplot(clicked.hourOfDay)\n",
    "sns.histplot(unclicked.hourOfDay)"
   ]
  },
  {
   "cell_type": "code",
   "execution_count": 7,
   "metadata": {},
   "outputs": [
    {
     "data": {
      "text/plain": "<matplotlib.axes._subplots.AxesSubplot at 0x7febccd7f880>"
     },
     "execution_count": 7,
     "metadata": {},
     "output_type": "execute_result"
    },
    {
     "data": {
      "text/plain": "<Figure size 432x288 with 1 Axes>",
      "image/png": "[encoded data removed]"
     },
     "metadata": {
      "needs_background": "light"
     },
     "output_type": "display_data"
    }
   ],
   "source": [
    "clicked = data[data.clicked==1]\n",
    "unclicked = data[data.clicked==0]\n",
    "sns.histplot(clicked.dayOfWeek)\n",
    "sns.histplot(unclicked.dayOfWeek)"
   ]
  },
  {
   "cell_type": "markdown",
   "metadata": {},
   "source": [
    "می‌بینیم که نسبت تبلیغات مراجعه شده و نشده در روز‌ها و ساعت مختلف برابر است. یعنی این ویژگی اگر به نتهایی و جدا از دیگر ویژگی‌ها (مانند شناسه کاربر و محتوای تبلیغ) بررسی شود، کمکی نخواهد کرد. اما در روش ‌هایی که تاثیر مقادیر مختلف دو متغیر را در نظر می‌گیرد (مانند ماشین فکتوریزیشن) این ویژگی‌ها ممکن است به‌کار آید. زیرا ممکن است هر فرد در ساعات خاصی یا برای محتوا‌های خاصی بیشتر به تبلیغ‌مراجعه کند. (علایق و زمان‌های کاری افراد متفاوت است.)"
   ]
  },
  {
   "cell_type": "code",
   "execution_count": 8,
   "metadata": {},
   "outputs": [
    {
     "data": {
      "text/plain": "          displayId     timestamp  dayOfWeek  hourOfDay  advertiserId  \\\ncount  1.499000e+03  1.499000e+03     1499.0     1499.0   1499.000000   \nmean   4.705156e+06  1.578430e+12        4.0        0.0   4297.502335   \nstd    5.028895e+03  4.086461e+05        0.0        0.0   2891.256929   \nmin    4.608522e+06  1.578429e+12        4.0        0.0    202.000000   \n25%    4.705047e+06  1.578429e+12        4.0        0.0   1386.000000   \n50%    4.705400e+06  1.578430e+12        4.0        0.0   4187.000000   \n75%    4.705825e+06  1.578430e+12        4.0        0.0   6883.000000   \nmax    4.706267e+06  1.578430e+12        4.0        0.0  10081.000000   \n\n        campaignId   creativeId    publisher      widgetId       device  \\\ncount  1499.000000  1499.000000  1499.000000   1499.000000  1499.000000   \nmean   4262.453636  3305.623749   160.841227   7984.653102     0.190127   \nstd    2509.592221  2004.342260   338.769903   3946.856007     0.392532   \nmin     286.000000     6.000000     0.000000    244.000000     0.000000   \n25%    1587.000000  1819.000000    18.000000   6092.000000     0.000000   \n50%    4198.000000  3914.000000    31.000000   7759.000000     0.000000   \n75%    6471.000000  5179.000000    80.000000  10975.000000     0.000000   \nmax    9423.000000  5434.000000  1529.000000  14284.000000     1.000000   \n\n                os      browser        source         docId        userId  \\\ncount  1499.000000  1499.000000   1499.000000  1.499000e+03  1.499000e+03   \nmean      0.374249     1.414276    625.858572  4.596871e+06  2.250510e+06   \nstd       0.675257     2.822726   1963.385449  2.516371e+06  8.081675e+05   \nmin       0.000000     0.000000      0.000000  1.390000e+02  3.256000e+03   \n25%       0.000000     0.000000     19.000000  3.715727e+06  2.236982e+06   \n50%       0.000000     0.000000     32.000000  6.161066e+06  2.687991e+06   \n75%       1.000000     1.000000     85.000000  6.244430e+06  2.688306e+06   \nmax       3.000000    26.000000  12396.000000  6.247342e+06  2.688642e+06   \n\n           clicked  \ncount  1499.000000  \nmean      0.247498  \nstd       0.431703  \nmin       0.000000  \n25%       0.000000  \n50%       0.000000  \n75%       0.000000  \nmax       1.000000  ",
      "text/html": "<div>\n<style scoped>\n    .dataframe tbody tr th:only-of-type {\n        vertical-align: middle;\n    }\n\n    .dataframe tbody tr th {\n        vertical-align: top;\n    }\n\n    .dataframe thead th {\n        text-align: right;\n    }\n</style>\n<table border=\"1\" class=\"dataframe\">\n  <thead>\n    <tr style=\"text-align: right;\">\n      <th></th>\n      <th>displayId</th>\n      <th>timestamp</th>\n      <th>dayOfWeek</th>\n      <th>hourOfDay</th>\n      <th>advertiserId</th>\n      <th>campaignId</th>\n      <th>creativeId</th>\n      <th>publisher</th>\n      <th>widgetId</th>\n      <th>device</th>\n      <th>os</th>\n      <th>browser</th>\n      <th>source</th>\n      <th>docId</th>\n      <th>userId</th>\n      <th>clicked</th>\n    </tr>\n  </thead>\n  <tbody>\n    <tr>\n      <th>count</th>\n      <td>1.499000e+03</td>\n      <td>1.499000e+03</td>\n      <td>1499.0</td>\n      <td>1499.0</td>\n      <td>1499.000000</td>\n      <td>1499.000000</td>\n      <td>1499.000000</td>\n      <td>1499.000000</td>\n      <td>1499.000000</td>\n      <td>1499.000000</td>\n      <td>1499.000000</td>\n      <td>1499.000000</td>\n      <td>1499.000000</td>\n      <td>1.499000e+03</td>\n      <td>1.499000e+03</td>\n      <td>1499.000000</td>\n    </tr>\n    <tr>\n      <th>mean</th>\n      <td>4.705156e+06</td>\n      <td>1.578430e+12</td>\n      <td>4.0</td>\n      <td>0.0</td>\n      <td>4297.502335</td>\n      <td>4262.453636</td>\n      <td>3305.623749</td>\n      <td>160.841227</td>\n      <td>7984.653102</td>\n      <td>0.190127</td>\n      <td>0.374249</td>\n      <td>1.414276</td>\n      <td>625.858572</td>\n      <td>4.596871e+06</td>\n      <td>2.250510e+06</td>\n      <td>0.247498</td>\n    </tr>\n    <tr>\n      <th>std</th>\n      <td>5.028895e+03</td>\n      <td>4.086461e+05</td>\n      <td>0.0</td>\n      <td>0.0</td>\n      <td>2891.256929</td>\n      <td>2509.592221</td>\n      <td>2004.342260</td>\n      <td>338.769903</td>\n      <td>3946.856007</td>\n      <td>0.392532</td>\n      <td>0.675257</td>\n      <td>2.822726</td>\n      <td>1963.385449</td>\n      <td>2.516371e+06</td>\n      <td>8.081675e+05</td>\n      <td>0.431703</td>\n    </tr>\n    <tr>\n      <th>min</th>\n      <td>4.608522e+06</td>\n      <td>1.578429e+12</td>\n      <td>4.0</td>\n      <td>0.0</td>\n      <td>202.000000</td>\n      <td>286.000000</td>\n      <td>6.000000</td>\n      <td>0.000000</td>\n      <td>244.000000</td>\n      <td>0.000000</td>\n      <td>0.000000</td>\n      <td>0.000000</td>\n      <td>0.000000</td>\n      <td>1.390000e+02</td>\n      <td>3.256000e+03</td>\n      <td>0.000000</td>\n    </tr>\n    <tr>\n      <th>25%</th>\n      <td>4.705047e+06</td>\n      <td>1.578429e+12</td>\n      <td>4.0</td>\n      <td>0.0</td>\n      <td>1386.000000</td>\n      <td>1587.000000</td>\n      <td>1819.000000</td>\n      <td>18.000000</td>\n      <td>6092.000000</td>\n      <td>0.000000</td>\n      <td>0.000000</td>\n      <td>0.000000</td>\n      <td>19.000000</td>\n      <td>3.715727e+06</td>\n      <td>2.236982e+06</td>\n      <td>0.000000</td>\n    </tr>\n    <tr>\n      <th>50%</th>\n      <td>4.705400e+06</td>\n      <td>1.578430e+12</td>\n      <td>4.0</td>\n      <td>0.0</td>\n      <td>4187.000000</td>\n      <td>4198.000000</td>\n      <td>3914.000000</td>\n      <td>31.000000</td>\n      <td>7759.000000</td>\n      <td>0.000000</td>\n      <td>0.000000</td>\n      <td>0.000000</td>\n      <td>32.000000</td>\n      <td>6.161066e+06</td>\n      <td>2.687991e+06</td>\n      <td>0.000000</td>\n    </tr>\n    <tr>\n      <th>75%</th>\n      <td>4.705825e+06</td>\n      <td>1.578430e+12</td>\n      <td>4.0</td>\n      <td>0.0</td>\n      <td>6883.000000</td>\n      <td>6471.000000</td>\n      <td>5179.000000</td>\n      <td>80.000000</td>\n      <td>10975.000000</td>\n      <td>0.000000</td>\n      <td>1.000000</td>\n      <td>1.000000</td>\n      <td>85.000000</td>\n      <td>6.244430e+06</td>\n      <td>2.688306e+06</td>\n      <td>0.000000</td>\n    </tr>\n    <tr>\n      <th>max</th>\n      <td>4.706267e+06</td>\n      <td>1.578430e+12</td>\n      <td>4.0</td>\n      <td>0.0</td>\n      <td>10081.000000</td>\n      <td>9423.000000</td>\n      <td>5434.000000</td>\n      <td>1529.000000</td>\n      <td>14284.000000</td>\n      <td>1.000000</td>\n      <td>3.000000</td>\n      <td>26.000000</td>\n      <td>12396.000000</td>\n      <td>6.247342e+06</td>\n      <td>2.688642e+06</td>\n      <td>1.000000</td>\n    </tr>\n  </tbody>\n</table>\n</div>"
     },
     "execution_count": 8,
     "metadata": {},
     "output_type": "execute_result"
    }
   ],
   "source": [
    "data.describe()"
   ]
  },
  {
   "cell_type": "code",
   "execution_count": 9,
   "outputs": [],
   "source": [
    "y = data[\"clicked\"]\n",
    "x = data.drop(data.columns[[0, 1, 7, 8, 11, 14, 15]] , axis=1)\n",
    "x_test = x.iloc[0:int(0.2*len(x))]\n",
    "x_train = x[int(0.2*len(x)):]\n",
    "y_train = y[int(0.2*len(y)):]\n",
    "y_test = y.iloc[0:int(0.2*len(y))]"
   ],
   "metadata": {
    "collapsed": false,
    "pycharm": {
     "name": "#%%\n"
    }
   }
  },
  {
   "cell_type": "markdown",
   "source": [
    "svm:"
   ],
   "metadata": {
    "collapsed": false
   }
  },
  {
   "cell_type": "code",
   "execution_count": 16,
   "outputs": [
    {
     "name": "stdout",
     "output_type": "stream",
     "text": [
      "AUC : 0.5000\n",
      "Cross-entropy loss : 8.3170 \n",
      "F1 score : 0.7592\n"
     ]
    }
   ],
   "source": [
    "from sklearn import svm\n",
    "from sklearn import metrics\n",
    "clsf = svm.SVC(C=4)\n",
    "clsf.fit(x_train, y_train)\n",
    "y_pred = clsf.predict(x_test)\n",
    "print(\"AUC : %.4f\" %metrics.roc_auc_score(y_test, y_pred))\n",
    "print(\"Cross-entropy loss : %.4f \" %metrics.log_loss(y_test,y_pred))\n",
    "print(\"F1 score : %.4f\" %metrics.f1_score(y_test,y_pred,average=\"micro\"))"
   ],
   "metadata": {
    "collapsed": false,
    "pycharm": {
     "name": "#%%\n"
    }
   }
  },
  {
   "cell_type": "markdown",
   "source": [
    "boosting:\n",
    "بوستینگ یک فرا الگوریتم ترکیبی در حوزه یادگیری ماشین است که برای کاهش عدم توازن و همچنین واریانس به کار می‌رود. این روش در یادگیری با نظارت مورد استفاده قرار گرفته و از خانواده الگوریتم‌های یادگیری ماشین به شمار می‌رود. این تکنیک، روشی برای تبدیل سیستمهای یادگیری ضعیف به قوی بر اساس ترکیب نتایج طبقه بندهای مختلف است. ایده اولیه این روش بر اساس سؤال مطرح شده توسط کیرنس و شجاع (۱۹۸۸، ۱۹۸۹) به وجود آمده است: آیا می‌توان با ترکیب مجموعه‌ای از سیستم‌های یادگیری ضعیف یک سیستم یادگیری قوی ایجاد نمود؟\n",
    "\n",
    "سیستم یادگیری ضعیف، یادگیرنده‌ای است که به عنوان یک طبقه بند، تنها کمی بهتر از حالت تصادفی عمل می‌نماید (برچسب نمونه‌ها را بهتر از تصادفی حدس می‌زند). در مقابل یادگیرنده قوی طبقه‌بندی است که به تنهایی می‌تواند برچسب نمونه‌ها را خوبی پیش بینی نماید."
   ],
   "metadata": {
    "collapsed": false
   }
  },
  {
   "cell_type": "code",
   "execution_count": 11,
   "metadata": {},
   "outputs": [
    {
     "name": "stderr",
     "output_type": "stream",
     "text": [
      "/home/mohammad/.local/lib/python3.8/site-packages/xgboost/sklearn.py:888: UserWarning: The use of label encoder in XGBClassifier is deprecated and will be removed in a future release. To remove this warning, do the following: 1) Pass option use_label_encoder=False when constructing XGBClassifier object; and 2) Encode your labels (y) as integers starting with 0, i.e. 0, 1, 2, ..., [num_class - 1].\n",
      "  warnings.warn(label_encoder_deprecation_msg, UserWarning)\n"
     ]
    },
    {
     "name": "stdout",
     "output_type": "stream",
     "text": [
      "[17:53:19] WARNING: ../src/learner.cc:1061: Starting in XGBoost 1.3.0, the default evaluation metric used with the objective 'binary:logistic' was changed from 'error' to 'logloss'. Explicitly set eval_metric if you'd like to restore the old behavior.\n",
      "AUC : 0.5347\n",
      "Cross-entropy loss : 10.9740 \n",
      "F1 score : 0.6823\n"
     ]
    }
   ],
   "source": [
    "import xgboost as xgb\n",
    "from sklearn.metrics import mean_squared_error\n",
    "# Classification\n",
    "clf_boosting = xgb.XGBClassifier(n_estimators=100, reg_lambda=1,reg_alpha=1, gamma=0, max_depth=None)\n",
    "# n_estimator is num of gradient boosted trees # reg_alpha and reg_lmbda are regularization term # gamma is Minimum loss\n",
    "clf_boosting.fit(x_train,y_train)\n",
    "# Prediction\n",
    "y_pred = clf_boosting.predict(x_test)\n",
    "print(\"AUC : %.4f\" %metrics.roc_auc_score(y_test, y_pred))\n",
    "print(\"Cross-entropy loss : %.4f \" %metrics.log_loss(y_test,y_pred))\n",
    "print(\"F1 score : %.4f\" %metrics.f1_score(y_test,y_pred,average=\"micro\"))"
   ]
  },
  {
   "cell_type": "markdown",
   "metadata": {},
   "source": [
    "random:"
   ]
  },
  {
   "cell_type": "code",
   "execution_count": 12,
   "metadata": {},
   "outputs": [
    {
     "name": "stdout",
     "output_type": "stream",
     "text": [
      "AUC : 0.5460\n",
      "Cross-entropy loss : 10.6274 \n",
      "F1 score : 0.6923\n"
     ]
    }
   ],
   "source": [
    "from sklearn.ensemble import RandomForestClassifier\n",
    "clf = RandomForestClassifier(n_estimators=1000,max_depth=3000)\n",
    "clf.fit(x_train,y_train)\n",
    "y_pred = clf.predict(x_test)\n",
    "print(\"AUC : %.4f\" %metrics.roc_auc_score(y_test, y_pred))\n",
    "print(\"Cross-entropy loss : %.4f \" %metrics.log_loss(y_test,y_pred))\n",
    "print(\"F1 score : %.4f\" %metrics.f1_score(y_test,y_pred,average=\"micro\"))"
   ]
  },
  {
   "cell_type": "markdown",
   "metadata": {},
   "source": [
    "logestic:"
   ]
  },
  {
   "cell_type": "code",
   "execution_count": 13,
   "metadata": {},
   "outputs": [
    {
     "name": "stdout",
     "output_type": "stream",
     "text": [
      "AUC : 0.5000\n",
      "Cross-entropy loss : 8.3170 \n",
      "F1 score : 0.7592\n"
     ]
    },
    {
     "name": "stderr",
     "output_type": "stream",
     "text": [
      "/home/mohammad/.local/lib/python3.8/site-packages/sklearn/linear_model/_sag.py:328: ConvergenceWarning: The max_iter was reached which means the coef_ did not converge\n",
      "  warnings.warn(\"The max_iter was reached which means \"\n"
     ]
    }
   ],
   "source": [
    "from sklearn.linear_model import LogisticRegression\n",
    "clf = LogisticRegression(random_state=0,solver=\"saga\",multi_class=\"ovr\",max_iter=1000)\n",
    "clf.fit(x_train,y_train)\n",
    "y_pred = clf.predict(x_test)\n",
    "print(\"AUC : %.4f\" %metrics.roc_auc_score(y_test, y_pred))\n",
    "print(\"Cross-entropy loss : %.4f \" %metrics.log_loss(y_test,y_pred))\n",
    "print(\"F1 score : %.4f\" %metrics.f1_score(y_test,y_pred,average=\"micro\"))"
   ]
  }
 ],
 "metadata": {
  "kernelspec": {
   "name": "pycharm-5a064d8e",
   "language": "python",
   "display_name": "PyCharm (HW7)"
  },
  "language_info": {
   "codemirror_mode": {
    "name": "ipython",
    "version": 3
   },
   "file_extension": ".py",
   "mimetype": "text/x-python",
   "name": "python",
   "nbconvert_exporter": "python",
   "pygments_lexer": "ipython3",
   "version": "3.7.3"
  }
 },
 "nbformat": 4,
 "nbformat_minor": 2
}