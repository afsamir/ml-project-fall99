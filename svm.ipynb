{
 "metadata": {
  "language_info": {
   "codemirror_mode": {
    "name": "ipython",
    "version": 3
   },
   "file_extension": ".py",
   "mimetype": "text/x-python",
   "name": "python",
   "nbconvert_exporter": "python",
   "pygments_lexer": "ipython3",
   "version": "3.6.9-final"
  },
  "orig_nbformat": 2,
  "kernelspec": {
   "name": "python36964bit0794469bf3b54f85b78d84ff6f1086a0",
   "display_name": "Python 3.6.9 64-bit",
   "language": "python"
  }
 },
 "nbformat": 4,
 "nbformat_minor": 2,
 "cells": [
  {
   "source": [
    "<div dir='rtl'>\n",
    "در این قسمت به سراغ استفاده از روش بردار پشتیبان می‌رویم.\n",
    "<br>\n",
    "با توجه یه اینکه ویژگی‌های داده بیشتر از نوع دسته‌بندی هستند، انتظار زیادی از این روش روی این داده نمی‌رود.\n",
    "</div>"
   ],
   "cell_type": "markdown",
   "metadata": {}
  },
  {
   "cell_type": "code",
   "execution_count": 22,
   "metadata": {},
   "outputs": [],
   "source": [
    "import pandas as ps\n",
    "import numpy as np\n",
    "import seaborn as sns\n",
    "from sklearn import svm\n",
    "\n",
    "import sys\n",
    "IN_COLAB = 'google.colab' in sys.modules\n"
   ]
  },
  {
   "cell_type": "code",
   "execution_count": 24,
   "metadata": {},
   "outputs": [
    {
     "output_type": "stream",
     "name": "stdout",
     "text": [
      "<class 'pandas.core.frame.DataFrame'>\nRangeIndex: 3768416 entries, 0 to 3768415\nData columns (total 16 columns):\n #   Column        Dtype\n---  ------        -----\n 0   displayId     int64\n 1   timestamp     int64\n 2   dayOfWeek     int64\n 3   hourOfDay     int64\n 4   advertiserId  int64\n 5   campaignId    int64\n 6   creativeId    int64\n 7   publisher     int64\n 8   widgetId      int64\n 9   device        int64\n 10  os            int64\n 11  browser       int64\n 12  source        int64\n 13  docId         int64\n 14  userId        int64\n 15  clicked       int64\ndtypes: int64(16)\nmemory usage: 460.0 MB\n"
     ]
    }
   ],
   "source": [
    "\n",
    "data = ps.read_csv('/content/gdrive/My Drive/train_data.csv' if IN_COLAB else 'train_data.csv')\n",
    "data.info()"
   ]
  },
  {
   "source": [
    "<div dir='rtl'>ابتدا به سراغ تقسیم‌بندی داده‌ها می‌رویم. با توجه به نامتوازن بودن داده‌ها، روش‌هایی مانند (undersampling) نمونه‌زایی (oversampling) و نمونه‌کاهی می‌تواند کمک کند اما به توجه به هزینه این روش‌ها که دور شدن از داده‌واقعی است، تلاش خود را بر اصلاح تابع خطا به شکلی که داده‌های کلاس نادر را مهمتر درنظر گیرد می‌گذاریم.\n",
    "<br>\n",
    "کتابخانه sklearn الگوریتم svm را به صورت وزن دار پیاده‌سازی کرده است. به طوری‌که میتوان با وزن‌دادن به کلاس‌ها، تشخیص درست‌ یک کلاس را بر دیگر کلاس‌ها اولویت داد. با توجه به این‌که تعداد نمایش‌های منجر به مراجعه، ۲۵ درصد کل داده است، وزن این کلاس راتعیین می‌کنیم.\n",
    "<div>"
   ],
   "cell_type": "markdown",
   "metadata": {}
  },
  {
   "cell_type": "code",
   "execution_count": 20,
   "metadata": {},
   "outputs": [],
   "source": [
    "clsf = svm.SVC(kernel='linear', C=1, class_weight={0:.25, 1:.75})"
   ]
  },
  {
   "source": [
    "<div dir='rtl'>\n",
    "اکنون عملیات روی داده‌ها را شروع می‌کنیم.\n",
    "<br>\n",
    "اول ویژگی‌های غیر ترتیبی را حذف می‌کنیم و بعد داده‌ی یادگیری را از داده‌ آزمون جدا می‌کنیم.\n",
    "</div>"
   ],
   "cell_type": "markdown",
   "metadata": {}
  },
  {
   "cell_type": "code",
   "execution_count": 16,
   "metadata": {},
   "outputs": [
    {
     "output_type": "stream",
     "name": "stdout",
     "text": [
      "<class 'pandas.core.frame.DataFrame'>\nRangeIndex: 3768416 entries, 0 to 3768415\nData columns (total 3 columns):\n #   Column     Dtype\n---  ------     -----\n 0   dayOfWeek  int64\n 1   hourOfDay  int64\n 2   clicked    int64\ndtypes: int64(3)\nmemory usage: 86.3 MB\nNone\n"
     ]
    },
    {
     "output_type": "execute_result",
     "data": {
      "text/plain": [
       "(         dayOfWeek  hourOfDay  clicked\n",
       " 3377798          2         13        0\n",
       " 2813550          0          9        0\n",
       " 11720            4          3        0\n",
       " 48759            4          5        0\n",
       " 218295           4         13        0\n",
       " ...            ...        ...      ...\n",
       " 98499            4          7        0\n",
       " 443508           5          7        0\n",
       " 2964473          0         21        0\n",
       " 1140963          0         21        0\n",
       " 1206560          1          5        0\n",
       " \n",
       " [3014732 rows x 3 columns],\n",
       "          dayOfWeek  hourOfDay  clicked\n",
       " 3662148          3         14        0\n",
       " 2162988          4          6        1\n",
       " 1809093          2         22        0\n",
       " 1772098          2         18        0\n",
       " 68838            4          6        0\n",
       " ...            ...        ...      ...\n",
       " 1535623          2          5        0\n",
       " 812810           6         16        0\n",
       " 1779748          2         19        0\n",
       " 2329906          4         19        0\n",
       " 2434953          5          8        0\n",
       " \n",
       " [753684 rows x 3 columns])"
      ]
     },
     "metadata": {},
     "execution_count": 16
    }
   ],
   "source": [
    "from sklearn.model_selection import train_test_split\n",
    "\n",
    "clean_data = data.drop(data.columns[[0, 1, 4, 5, 6, 7, 8, 9, 10, 11, 12, 13, 14]] , axis=1)\n",
    "print(clean_data.info())\n",
    "train, test = train_test_split(clean_data, test_size=0.2)\n",
    "train, test"
   ]
  },
  {
   "source": [
    "<div dir=rtl'>\n",
    "حالا به سراغ خود الگوریتم می‌رویم.\n",
    "<br>\n",
    "\n",
    "</div>"
   ],
   "cell_type": "markdown",
   "metadata": {}
  },
  {
   "cell_type": "code",
   "execution_count": 19,
   "metadata": {},
   "outputs": [
    {
     "output_type": "execute_result",
     "data": {
      "text/plain": [
       "         clicked\n",
       "3377798        0\n",
       "2813550        0\n",
       "11720          0\n",
       "48759          0\n",
       "218295         0\n",
       "...          ...\n",
       "98499          0\n",
       "443508         0\n",
       "2964473        0\n",
       "1140963        0\n",
       "1206560        0\n",
       "\n",
       "[3014732 rows x 1 columns]"
      ],
      "text/html": "<div>\n<style scoped>\n    .dataframe tbody tr th:only-of-type {\n        vertical-align: middle;\n    }\n\n    .dataframe tbody tr th {\n        vertical-align: top;\n    }\n\n    .dataframe thead th {\n        text-align: right;\n    }\n</style>\n<table border=\"1\" class=\"dataframe\">\n  <thead>\n    <tr style=\"text-align: right;\">\n      <th></th>\n      <th>clicked</th>\n    </tr>\n  </thead>\n  <tbody>\n    <tr>\n      <th>3377798</th>\n      <td>0</td>\n    </tr>\n    <tr>\n      <th>2813550</th>\n      <td>0</td>\n    </tr>\n    <tr>\n      <th>11720</th>\n      <td>0</td>\n    </tr>\n    <tr>\n      <th>48759</th>\n      <td>0</td>\n    </tr>\n    <tr>\n      <th>218295</th>\n      <td>0</td>\n    </tr>\n    <tr>\n      <th>...</th>\n      <td>...</td>\n    </tr>\n    <tr>\n      <th>98499</th>\n      <td>0</td>\n    </tr>\n    <tr>\n      <th>443508</th>\n      <td>0</td>\n    </tr>\n    <tr>\n      <th>2964473</th>\n      <td>0</td>\n    </tr>\n    <tr>\n      <th>1140963</th>\n      <td>0</td>\n    </tr>\n    <tr>\n      <th>1206560</th>\n      <td>0</td>\n    </tr>\n  </tbody>\n</table>\n<p>3014732 rows × 1 columns</p>\n</div>"
     },
     "metadata": {},
     "execution_count": 19
    }
   ],
   "source": [
    "\n",
    "clsf.fit(train[['dayOfWeek','hourOfDay']], train[['clicked']])\n",
    "clsf.predict(test[['dayOfWeek','hourOfDay']])\n",
    "# (clsf.predict(newdata[0:2]), data[1:2].clicked)"
   ]
  }
 ]
}