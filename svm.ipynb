{
 "metadata": {
  "language_info": {
   "codemirror_mode": {
    "name": "ipython",
    "version": 3
   },
   "file_extension": ".py",
   "mimetype": "text/x-python",
   "name": "python",
   "nbconvert_exporter": "python",
   "pygments_lexer": "ipython3",
   "version": "3.6.9-final"
  },
  "orig_nbformat": 2,
  "kernelspec": {
   "name": "python36964bit0794469bf3b54f85b78d84ff6f1086a0",
   "display_name": "Python 3.6.9 64-bit",
   "language": "python"
  }
 },
 "nbformat": 4,
 "nbformat_minor": 2,
 "cells": [
  {
   "cell_type": "code",
   "execution_count": 1,
   "metadata": {},
   "outputs": [
    {
     "output_type": "stream",
     "name": "stdout",
     "text": [
      "<class 'pandas.core.frame.DataFrame'>\nRangeIndex: 3768416 entries, 0 to 3768415\nData columns (total 16 columns):\n #   Column        Dtype\n---  ------        -----\n 0   displayId     int64\n 1   timestamp     int64\n 2   dayOfWeek     int64\n 3   hourOfDay     int64\n 4   advertiserId  int64\n 5   campaignId    int64\n 6   creativeId    int64\n 7   publisher     int64\n 8   widgetId      int64\n 9   device        int64\n 10  os            int64\n 11  browser       int64\n 12  source        int64\n 13  docId         int64\n 14  userId        int64\n 15  clicked       int64\ndtypes: int64(16)\nmemory usage: 460.0 MB\n"
     ]
    }
   ],
   "source": [
    "import pandas as ps\n",
    "import numpy as np\n",
    "import seaborn as sns\n",
    "from sklearn import svm\n",
    "data = ps.read_csv('train_data.csv')\n",
    "data.info()"
   ]
  },
  {
   "cell_type": "code",
   "execution_count": 3,
   "metadata": {},
   "outputs": [
    {
     "output_type": "stream",
     "name": "stdout",
     "text": [
      "<class 'pandas.core.frame.DataFrame'>\nRangeIndex: 3768416 entries, 0 to 3768415\nData columns (total 9 columns):\n #   Column        Dtype\n---  ------        -----\n 0   dayOfWeek     int64\n 1   hourOfDay     int64\n 2   advertiserId  int64\n 3   campaignId    int64\n 4   creativeId    int64\n 5   device        int64\n 6   os            int64\n 7   source        int64\n 8   docId         int64\ndtypes: int64(9)\nmemory usage: 258.8 MB\n"
     ]
    },
    {
     "output_type": "execute_result",
     "data": {
      "text/plain": [
       "SVC(C=4, kernel='linear')"
      ]
     },
     "metadata": {},
     "execution_count": 3
    }
   ],
   "source": [
    "clsf = svm.SVC(kernel='linear', C=4)\n",
    "classes = data['clicked']\n",
    "# data = data.drop(columns=['displayId', 'timestamp', 'publisher', 'userId', 'browser', 'widgetId'])\n",
    "newdata=data.drop(data.columns[[0, 1, 7, 8, 11, 14, 15]] , axis=1)\n",
    "newdata.info()\n",
    "# newdata[0:3]\n",
    "clsf.fit(newdata[0:10], classes[0:10])"
   ]
  },
  {
   "cell_type": "code",
   "execution_count": null,
   "metadata": {},
   "outputs": [],
   "source": [
    "clsf.fit()"
   ]
  }
 ]
}