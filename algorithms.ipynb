{
 "cells": [
  {
   "cell_type": "code",
   "metadata": {
    "collapsed": true,
    "pycharm": {
     "name": "#%%\n"
    }
   },
   "source": [
    "import pandas as pd\n",
    "import numpy as np\n",
    "data = pd.read_csv(\"train.csv\")\n",
    "y = data[\"clicked\"]\n",
    "x = data.drop(data.columns[[0, 1, 7, 8, 11, 14, 15]] , axis=1)\n",
    "x_test = x.iloc[0:int(0.2*len(x))]\n",
    "x_train = x[int(0.2*len(x)):]\n",
    "y_train = y[int(0.2*len(y)):]\n",
    "y_test = y.iloc[0:int(0.2*len(y))]"
   ],
   "execution_count": 3,
   "outputs": []
  },
  {
   "cell_type": "code",
   "execution_count": 4,
   "outputs": [
    {
     "name": "stdout",
     "output_type": "stream",
     "text": [
      "AUC : 0.5574\n",
      "Cross-entropy loss : 10.2809 \n",
      "F1 score : 0.7023\n"
     ]
    }
   ],
   "source": [
    "from sklearn.ensemble import RandomForestClassifier\n",
    "from sklearn import metrics\n",
    "clf = RandomForestClassifier(n_estimators=1000,max_depth=3000)\n",
    "clf.fit(x_train,y_train)\n",
    "y_pred = clf.predict(x_test)\n",
    "print(\"AUC : %.4f\" %metrics.roc_auc_score(y_test, y_pred))\n",
    "print(\"Cross-entropy loss : %.4f \" %metrics.log_loss(y_test,y_pred))\n",
    "print(\"F1 score : %.4f\" %metrics.f1_score(y_test,y_pred,average=\"micro\"))"
   ],
   "metadata": {
    "collapsed": false,
    "pycharm": {
     "name": "#%%\n"
    }
   }
  },
  {
   "cell_type": "code",
   "execution_count": 5,
   "outputs": [
    {
     "name": "stdout",
     "output_type": "stream",
     "text": [
      "AUC : 0.5000\n",
      "Cross-entropy loss : 8.3170 \n",
      "F1 score : 0.7592\n"
     ]
    },
    {
     "name": "stderr",
     "output_type": "stream",
     "text": [
      "/home/mohammad/.local/lib/python3.8/site-packages/sklearn/linear_model/_sag.py:328: ConvergenceWarning: The max_iter was reached which means the coef_ did not converge\n",
      "  warnings.warn(\"The max_iter was reached which means \"\n"
     ]
    }
   ],
   "source": [
    "from sklearn.linear_model import LogisticRegression\n",
    "clf = LogisticRegression(random_state=0,solver=\"saga\",multi_class=\"ovr\",max_iter=1000)\n",
    "clf.fit(x_train,y_train)\n",
    "y_pred = clf.predict(x_test)\n",
    "print(\"AUC : %.4f\" %metrics.roc_auc_score(y_test, y_pred))\n",
    "print(\"Cross-entropy loss : %.4f \" %metrics.log_loss(y_test,y_pred))\n",
    "print(\"F1 score : %.4f\" %metrics.f1_score(y_test,y_pred,average=\"micro\"))"
   ],
   "metadata": {
    "collapsed": false,
    "pycharm": {
     "name": "#%%\n"
    }
   }
  }
 ],
 "metadata": {
  "kernelspec": {
   "name": "pycharm-5a064d8e",
   "language": "python",
   "display_name": "PyCharm (HW7)"
  },
  "language_info": {
   "codemirror_mode": {
    "name": "ipython",
    "version": 2
   },
   "file_extension": ".py",
   "mimetype": "text/x-python",
   "name": "python",
   "nbconvert_exporter": "python",
   "pygments_lexer": "ipython2",
   "version": "2.7.6"
  }
 },
 "nbformat": 4,
 "nbformat_minor": 0
}